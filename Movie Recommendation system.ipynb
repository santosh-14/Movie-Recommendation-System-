{
 "cells": [
  {
   "cell_type": "markdown",
   "id": "45568f9f",
   "metadata": {},
   "source": [
    "# Movie Recommendation System"
   ]
  },
  {
   "cell_type": "code",
   "execution_count": 30,
   "id": "d0d3f6f5",
   "metadata": {},
   "outputs": [],
   "source": [
    "import pandas as pd\n",
    "import numpy as np\n",
    "import seaborn as sns\n",
    "import matplotlib.pyplot as plt"
   ]
  },
  {
   "cell_type": "code",
   "execution_count": 2,
   "id": "6166da0e",
   "metadata": {},
   "outputs": [
    {
     "name": "stderr",
     "output_type": "stream",
     "text": [
      "D:\\anaconda3\\lib\\site-packages\\IPython\\core\\interactiveshell.py:3444: DtypeWarning: Columns (10) have mixed types.Specify dtype option on import or set low_memory=False.\n",
      "  exec(code_obj, self.user_global_ns, self.user_ns)\n"
     ]
    },
    {
     "data": {
      "text/html": [
       "<div>\n",
       "<style scoped>\n",
       "    .dataframe tbody tr th:only-of-type {\n",
       "        vertical-align: middle;\n",
       "    }\n",
       "\n",
       "    .dataframe tbody tr th {\n",
       "        vertical-align: top;\n",
       "    }\n",
       "\n",
       "    .dataframe thead th {\n",
       "        text-align: right;\n",
       "    }\n",
       "</style>\n",
       "<table border=\"1\" class=\"dataframe\">\n",
       "  <thead>\n",
       "    <tr style=\"text-align: right;\">\n",
       "      <th></th>\n",
       "      <th>adult</th>\n",
       "      <th>belongs_to_collection</th>\n",
       "      <th>budget</th>\n",
       "      <th>genres</th>\n",
       "      <th>homepage</th>\n",
       "      <th>id</th>\n",
       "      <th>imdb_id</th>\n",
       "      <th>original_language</th>\n",
       "      <th>original_title</th>\n",
       "      <th>overview</th>\n",
       "      <th>...</th>\n",
       "      <th>release_date</th>\n",
       "      <th>revenue</th>\n",
       "      <th>runtime</th>\n",
       "      <th>spoken_languages</th>\n",
       "      <th>status</th>\n",
       "      <th>tagline</th>\n",
       "      <th>title</th>\n",
       "      <th>video</th>\n",
       "      <th>vote_average</th>\n",
       "      <th>vote_count</th>\n",
       "    </tr>\n",
       "  </thead>\n",
       "  <tbody>\n",
       "    <tr>\n",
       "      <th>28500</th>\n",
       "      <td>False</td>\n",
       "      <td>NaN</td>\n",
       "      <td>0</td>\n",
       "      <td>[{'id': 14, 'name': 'Fantasy'}, {'id': 878, 'n...</td>\n",
       "      <td>NaN</td>\n",
       "      <td>82430</td>\n",
       "      <td>tt0078792</td>\n",
       "      <td>en</td>\n",
       "      <td>Arabian Adventure</td>\n",
       "      <td>An evil caliph (Christopher Lee) offers his da...</td>\n",
       "      <td>...</td>\n",
       "      <td>1979-07-08</td>\n",
       "      <td>0.0</td>\n",
       "      <td>98.0</td>\n",
       "      <td>[{'iso_639_1': 'en', 'name': 'English'}]</td>\n",
       "      <td>Released</td>\n",
       "      <td>Soar into a Magical World of Action, Excitemen...</td>\n",
       "      <td>Arabian Adventure</td>\n",
       "      <td>False</td>\n",
       "      <td>5.8</td>\n",
       "      <td>8.0</td>\n",
       "    </tr>\n",
       "    <tr>\n",
       "      <th>12121</th>\n",
       "      <td>False</td>\n",
       "      <td>NaN</td>\n",
       "      <td>7300000</td>\n",
       "      <td>[{'id': 16, 'name': 'Animation'}, {'id': 18, '...</td>\n",
       "      <td>http://www.sonypictures.com/classics/persepolis/</td>\n",
       "      <td>2011</td>\n",
       "      <td>tt0808417</td>\n",
       "      <td>fr</td>\n",
       "      <td>Persepolis</td>\n",
       "      <td>In 1970s Iran, Marjane 'Marji' Statrapi watche...</td>\n",
       "      <td>...</td>\n",
       "      <td>2007-05-23</td>\n",
       "      <td>0.0</td>\n",
       "      <td>95.0</td>\n",
       "      <td>[{'iso_639_1': 'en', 'name': 'English'}, {'iso...</td>\n",
       "      <td>Released</td>\n",
       "      <td>NaN</td>\n",
       "      <td>Persepolis</td>\n",
       "      <td>False</td>\n",
       "      <td>7.7</td>\n",
       "      <td>461.0</td>\n",
       "    </tr>\n",
       "    <tr>\n",
       "      <th>4587</th>\n",
       "      <td>False</td>\n",
       "      <td>NaN</td>\n",
       "      <td>0</td>\n",
       "      <td>[{'id': 18, 'name': 'Drama'}, {'id': 9648, 'na...</td>\n",
       "      <td>NaN</td>\n",
       "      <td>33214</td>\n",
       "      <td>tt0080408</td>\n",
       "      <td>en</td>\n",
       "      <td>Bad Timing</td>\n",
       "      <td>Alex Linden is a psychiatrist living in Vienna...</td>\n",
       "      <td>...</td>\n",
       "      <td>1980-03-02</td>\n",
       "      <td>0.0</td>\n",
       "      <td>123.0</td>\n",
       "      <td>[{'iso_639_1': 'fr', 'name': 'Français'}, {'is...</td>\n",
       "      <td>Released</td>\n",
       "      <td>His terrifying obsession took them to the brin...</td>\n",
       "      <td>Bad Timing</td>\n",
       "      <td>False</td>\n",
       "      <td>6.6</td>\n",
       "      <td>32.0</td>\n",
       "    </tr>\n",
       "    <tr>\n",
       "      <th>23577</th>\n",
       "      <td>False</td>\n",
       "      <td>NaN</td>\n",
       "      <td>0</td>\n",
       "      <td>[{'id': 18, 'name': 'Drama'}]</td>\n",
       "      <td>http://www.thedirtiesthemovie.com/</td>\n",
       "      <td>159770</td>\n",
       "      <td>tt2334896</td>\n",
       "      <td>en</td>\n",
       "      <td>The Dirties</td>\n",
       "      <td>Two best friends are filming a comedy about ge...</td>\n",
       "      <td>...</td>\n",
       "      <td>2013-10-04</td>\n",
       "      <td>0.0</td>\n",
       "      <td>83.0</td>\n",
       "      <td>[{'iso_639_1': 'en', 'name': 'English'}]</td>\n",
       "      <td>Released</td>\n",
       "      <td>NaN</td>\n",
       "      <td>The Dirties</td>\n",
       "      <td>False</td>\n",
       "      <td>6.0</td>\n",
       "      <td>42.0</td>\n",
       "    </tr>\n",
       "    <tr>\n",
       "      <th>12198</th>\n",
       "      <td>False</td>\n",
       "      <td>NaN</td>\n",
       "      <td>0</td>\n",
       "      <td>[{'id': 80, 'name': 'Crime'}, {'id': 99, 'name...</td>\n",
       "      <td>NaN</td>\n",
       "      <td>24060</td>\n",
       "      <td>tt0988102</td>\n",
       "      <td>en</td>\n",
       "      <td>Darfur Now</td>\n",
       "      <td>This acclaimed documentary follows the story o...</td>\n",
       "      <td>...</td>\n",
       "      <td>2007-09-09</td>\n",
       "      <td>0.0</td>\n",
       "      <td>98.0</td>\n",
       "      <td>[{'iso_639_1': 'ar', 'name': 'العربية'}, {'iso...</td>\n",
       "      <td>Released</td>\n",
       "      <td>Six Stories. One Hope.</td>\n",
       "      <td>Darfur Now</td>\n",
       "      <td>False</td>\n",
       "      <td>5.3</td>\n",
       "      <td>3.0</td>\n",
       "    </tr>\n",
       "  </tbody>\n",
       "</table>\n",
       "<p>5 rows × 24 columns</p>\n",
       "</div>"
      ],
      "text/plain": [
       "       adult belongs_to_collection   budget  \\\n",
       "28500  False                   NaN        0   \n",
       "12121  False                   NaN  7300000   \n",
       "4587   False                   NaN        0   \n",
       "23577  False                   NaN        0   \n",
       "12198  False                   NaN        0   \n",
       "\n",
       "                                                  genres  \\\n",
       "28500  [{'id': 14, 'name': 'Fantasy'}, {'id': 878, 'n...   \n",
       "12121  [{'id': 16, 'name': 'Animation'}, {'id': 18, '...   \n",
       "4587   [{'id': 18, 'name': 'Drama'}, {'id': 9648, 'na...   \n",
       "23577                      [{'id': 18, 'name': 'Drama'}]   \n",
       "12198  [{'id': 80, 'name': 'Crime'}, {'id': 99, 'name...   \n",
       "\n",
       "                                               homepage      id    imdb_id  \\\n",
       "28500                                               NaN   82430  tt0078792   \n",
       "12121  http://www.sonypictures.com/classics/persepolis/    2011  tt0808417   \n",
       "4587                                                NaN   33214  tt0080408   \n",
       "23577                http://www.thedirtiesthemovie.com/  159770  tt2334896   \n",
       "12198                                               NaN   24060  tt0988102   \n",
       "\n",
       "      original_language     original_title  \\\n",
       "28500                en  Arabian Adventure   \n",
       "12121                fr         Persepolis   \n",
       "4587                 en         Bad Timing   \n",
       "23577                en        The Dirties   \n",
       "12198                en         Darfur Now   \n",
       "\n",
       "                                                overview  ... release_date  \\\n",
       "28500  An evil caliph (Christopher Lee) offers his da...  ...   1979-07-08   \n",
       "12121  In 1970s Iran, Marjane 'Marji' Statrapi watche...  ...   2007-05-23   \n",
       "4587   Alex Linden is a psychiatrist living in Vienna...  ...   1980-03-02   \n",
       "23577  Two best friends are filming a comedy about ge...  ...   2013-10-04   \n",
       "12198  This acclaimed documentary follows the story o...  ...   2007-09-09   \n",
       "\n",
       "      revenue runtime                                   spoken_languages  \\\n",
       "28500     0.0    98.0           [{'iso_639_1': 'en', 'name': 'English'}]   \n",
       "12121     0.0    95.0  [{'iso_639_1': 'en', 'name': 'English'}, {'iso...   \n",
       "4587      0.0   123.0  [{'iso_639_1': 'fr', 'name': 'Français'}, {'is...   \n",
       "23577     0.0    83.0           [{'iso_639_1': 'en', 'name': 'English'}]   \n",
       "12198     0.0    98.0  [{'iso_639_1': 'ar', 'name': 'العربية'}, {'iso...   \n",
       "\n",
       "         status                                            tagline  \\\n",
       "28500  Released  Soar into a Magical World of Action, Excitemen...   \n",
       "12121  Released                                                NaN   \n",
       "4587   Released  His terrifying obsession took them to the brin...   \n",
       "23577  Released                                                NaN   \n",
       "12198  Released                             Six Stories. One Hope.   \n",
       "\n",
       "                   title  video vote_average vote_count  \n",
       "28500  Arabian Adventure  False          5.8        8.0  \n",
       "12121         Persepolis  False          7.7      461.0  \n",
       "4587          Bad Timing  False          6.6       32.0  \n",
       "23577        The Dirties  False          6.0       42.0  \n",
       "12198         Darfur Now  False          5.3        3.0  \n",
       "\n",
       "[5 rows x 24 columns]"
      ]
     },
     "execution_count": 2,
     "metadata": {},
     "output_type": "execute_result"
    }
   ],
   "source": [
    "df=pd.read_csv(\"movies_metadata.csv\")\n",
    "df.sample(5)"
   ]
  },
  {
   "cell_type": "code",
   "execution_count": 3,
   "id": "467c7e7b",
   "metadata": {},
   "outputs": [
    {
     "data": {
      "text/plain": [
       "Index(['adult', 'belongs_to_collection', 'budget', 'genres', 'homepage', 'id',\n",
       "       'imdb_id', 'original_language', 'original_title', 'overview',\n",
       "       'popularity', 'poster_path', 'production_companies',\n",
       "       'production_countries', 'release_date', 'revenue', 'runtime',\n",
       "       'spoken_languages', 'status', 'tagline', 'title', 'video',\n",
       "       'vote_average', 'vote_count'],\n",
       "      dtype='object')"
      ]
     },
     "execution_count": 3,
     "metadata": {},
     "output_type": "execute_result"
    }
   ],
   "source": [
    "df.columns"
   ]
  },
  {
   "cell_type": "code",
   "execution_count": 4,
   "id": "032b0d8f",
   "metadata": {},
   "outputs": [
    {
     "name": "stdout",
     "output_type": "stream",
     "text": [
      "<class 'pandas.core.frame.DataFrame'>\n",
      "RangeIndex: 45466 entries, 0 to 45465\n",
      "Data columns (total 24 columns):\n",
      " #   Column                 Non-Null Count  Dtype  \n",
      "---  ------                 --------------  -----  \n",
      " 0   adult                  45466 non-null  object \n",
      " 1   belongs_to_collection  4494 non-null   object \n",
      " 2   budget                 45466 non-null  object \n",
      " 3   genres                 45466 non-null  object \n",
      " 4   homepage               7782 non-null   object \n",
      " 5   id                     45466 non-null  object \n",
      " 6   imdb_id                45449 non-null  object \n",
      " 7   original_language      45455 non-null  object \n",
      " 8   original_title         45466 non-null  object \n",
      " 9   overview               44512 non-null  object \n",
      " 10  popularity             45461 non-null  object \n",
      " 11  poster_path            45080 non-null  object \n",
      " 12  production_companies   45463 non-null  object \n",
      " 13  production_countries   45463 non-null  object \n",
      " 14  release_date           45379 non-null  object \n",
      " 15  revenue                45460 non-null  float64\n",
      " 16  runtime                45203 non-null  float64\n",
      " 17  spoken_languages       45460 non-null  object \n",
      " 18  status                 45379 non-null  object \n",
      " 19  tagline                20412 non-null  object \n",
      " 20  title                  45460 non-null  object \n",
      " 21  video                  45460 non-null  object \n",
      " 22  vote_average           45460 non-null  float64\n",
      " 23  vote_count             45460 non-null  float64\n",
      "dtypes: float64(4), object(20)\n",
      "memory usage: 8.3+ MB\n"
     ]
    }
   ],
   "source": [
    "df.info()"
   ]
  },
  {
   "cell_type": "code",
   "execution_count": 5,
   "id": "3d4e8d59",
   "metadata": {},
   "outputs": [
    {
     "data": {
      "text/plain": [
       "adult                        0\n",
       "belongs_to_collection    40972\n",
       "budget                       0\n",
       "genres                       0\n",
       "homepage                 37684\n",
       "id                           0\n",
       "imdb_id                     17\n",
       "original_language           11\n",
       "original_title               0\n",
       "overview                   954\n",
       "popularity                   5\n",
       "poster_path                386\n",
       "production_companies         3\n",
       "production_countries         3\n",
       "release_date                87\n",
       "revenue                      6\n",
       "runtime                    263\n",
       "spoken_languages             6\n",
       "status                      87\n",
       "tagline                  25054\n",
       "title                        6\n",
       "video                        6\n",
       "vote_average                 6\n",
       "vote_count                   6\n",
       "dtype: int64"
      ]
     },
     "execution_count": 5,
     "metadata": {},
     "output_type": "execute_result"
    }
   ],
   "source": [
    "df.isnull().sum()"
   ]
  },
  {
   "cell_type": "code",
   "execution_count": 6,
   "id": "7fe1186a",
   "metadata": {},
   "outputs": [
    {
     "data": {
      "text/html": [
       "<div>\n",
       "<style scoped>\n",
       "    .dataframe tbody tr th:only-of-type {\n",
       "        vertical-align: middle;\n",
       "    }\n",
       "\n",
       "    .dataframe tbody tr th {\n",
       "        vertical-align: top;\n",
       "    }\n",
       "\n",
       "    .dataframe thead th {\n",
       "        text-align: right;\n",
       "    }\n",
       "</style>\n",
       "<table border=\"1\" class=\"dataframe\">\n",
       "  <thead>\n",
       "    <tr style=\"text-align: right;\">\n",
       "      <th></th>\n",
       "      <th>cast</th>\n",
       "      <th>crew</th>\n",
       "      <th>id</th>\n",
       "    </tr>\n",
       "  </thead>\n",
       "  <tbody>\n",
       "    <tr>\n",
       "      <th>0</th>\n",
       "      <td>[{'cast_id': 14, 'character': 'Woody (voice)',...</td>\n",
       "      <td>[{'credit_id': '52fe4284c3a36847f8024f49', 'de...</td>\n",
       "      <td>862</td>\n",
       "    </tr>\n",
       "    <tr>\n",
       "      <th>1</th>\n",
       "      <td>[{'cast_id': 1, 'character': 'Alan Parrish', '...</td>\n",
       "      <td>[{'credit_id': '52fe44bfc3a36847f80a7cd1', 'de...</td>\n",
       "      <td>8844</td>\n",
       "    </tr>\n",
       "    <tr>\n",
       "      <th>2</th>\n",
       "      <td>[{'cast_id': 2, 'character': 'Max Goldman', 'c...</td>\n",
       "      <td>[{'credit_id': '52fe466a9251416c75077a89', 'de...</td>\n",
       "      <td>15602</td>\n",
       "    </tr>\n",
       "    <tr>\n",
       "      <th>3</th>\n",
       "      <td>[{'cast_id': 1, 'character': \"Savannah 'Vannah...</td>\n",
       "      <td>[{'credit_id': '52fe44779251416c91011acb', 'de...</td>\n",
       "      <td>31357</td>\n",
       "    </tr>\n",
       "    <tr>\n",
       "      <th>4</th>\n",
       "      <td>[{'cast_id': 1, 'character': 'George Banks', '...</td>\n",
       "      <td>[{'credit_id': '52fe44959251416c75039ed7', 'de...</td>\n",
       "      <td>11862</td>\n",
       "    </tr>\n",
       "    <tr>\n",
       "      <th>...</th>\n",
       "      <td>...</td>\n",
       "      <td>...</td>\n",
       "      <td>...</td>\n",
       "    </tr>\n",
       "    <tr>\n",
       "      <th>45471</th>\n",
       "      <td>[{'cast_id': 0, 'character': '', 'credit_id': ...</td>\n",
       "      <td>[{'credit_id': '5894a97d925141426c00818c', 'de...</td>\n",
       "      <td>439050</td>\n",
       "    </tr>\n",
       "    <tr>\n",
       "      <th>45472</th>\n",
       "      <td>[{'cast_id': 1002, 'character': 'Sister Angela...</td>\n",
       "      <td>[{'credit_id': '52fe4af1c3a36847f81e9b15', 'de...</td>\n",
       "      <td>111109</td>\n",
       "    </tr>\n",
       "    <tr>\n",
       "      <th>45473</th>\n",
       "      <td>[{'cast_id': 6, 'character': 'Emily Shaw', 'cr...</td>\n",
       "      <td>[{'credit_id': '52fe4776c3a368484e0c8387', 'de...</td>\n",
       "      <td>67758</td>\n",
       "    </tr>\n",
       "    <tr>\n",
       "      <th>45474</th>\n",
       "      <td>[{'cast_id': 2, 'character': '', 'credit_id': ...</td>\n",
       "      <td>[{'credit_id': '533bccebc3a36844cf0011a7', 'de...</td>\n",
       "      <td>227506</td>\n",
       "    </tr>\n",
       "    <tr>\n",
       "      <th>45475</th>\n",
       "      <td>[]</td>\n",
       "      <td>[{'credit_id': '593e676c92514105b702e68e', 'de...</td>\n",
       "      <td>461257</td>\n",
       "    </tr>\n",
       "  </tbody>\n",
       "</table>\n",
       "<p>45476 rows × 3 columns</p>\n",
       "</div>"
      ],
      "text/plain": [
       "                                                    cast  \\\n",
       "0      [{'cast_id': 14, 'character': 'Woody (voice)',...   \n",
       "1      [{'cast_id': 1, 'character': 'Alan Parrish', '...   \n",
       "2      [{'cast_id': 2, 'character': 'Max Goldman', 'c...   \n",
       "3      [{'cast_id': 1, 'character': \"Savannah 'Vannah...   \n",
       "4      [{'cast_id': 1, 'character': 'George Banks', '...   \n",
       "...                                                  ...   \n",
       "45471  [{'cast_id': 0, 'character': '', 'credit_id': ...   \n",
       "45472  [{'cast_id': 1002, 'character': 'Sister Angela...   \n",
       "45473  [{'cast_id': 6, 'character': 'Emily Shaw', 'cr...   \n",
       "45474  [{'cast_id': 2, 'character': '', 'credit_id': ...   \n",
       "45475                                                 []   \n",
       "\n",
       "                                                    crew      id  \n",
       "0      [{'credit_id': '52fe4284c3a36847f8024f49', 'de...     862  \n",
       "1      [{'credit_id': '52fe44bfc3a36847f80a7cd1', 'de...    8844  \n",
       "2      [{'credit_id': '52fe466a9251416c75077a89', 'de...   15602  \n",
       "3      [{'credit_id': '52fe44779251416c91011acb', 'de...   31357  \n",
       "4      [{'credit_id': '52fe44959251416c75039ed7', 'de...   11862  \n",
       "...                                                  ...     ...  \n",
       "45471  [{'credit_id': '5894a97d925141426c00818c', 'de...  439050  \n",
       "45472  [{'credit_id': '52fe4af1c3a36847f81e9b15', 'de...  111109  \n",
       "45473  [{'credit_id': '52fe4776c3a368484e0c8387', 'de...   67758  \n",
       "45474  [{'credit_id': '533bccebc3a36844cf0011a7', 'de...  227506  \n",
       "45475  [{'credit_id': '593e676c92514105b702e68e', 'de...  461257  \n",
       "\n",
       "[45476 rows x 3 columns]"
      ]
     },
     "execution_count": 6,
     "metadata": {},
     "output_type": "execute_result"
    }
   ],
   "source": [
    "df1=pd.read_csv(\"credits.csv\")\n",
    "df1"
   ]
  },
  {
   "cell_type": "code",
   "execution_count": 7,
   "id": "f771a290",
   "metadata": {},
   "outputs": [
    {
     "name": "stdout",
     "output_type": "stream",
     "text": [
      "<class 'pandas.core.frame.DataFrame'>\n",
      "RangeIndex: 45476 entries, 0 to 45475\n",
      "Data columns (total 3 columns):\n",
      " #   Column  Non-Null Count  Dtype \n",
      "---  ------  --------------  ----- \n",
      " 0   cast    45476 non-null  object\n",
      " 1   crew    45476 non-null  object\n",
      " 2   id      45476 non-null  int64 \n",
      "dtypes: int64(1), object(2)\n",
      "memory usage: 1.0+ MB\n"
     ]
    }
   ],
   "source": [
    "df1.info()"
   ]
  },
  {
   "cell_type": "code",
   "execution_count": 8,
   "id": "b63be0bb",
   "metadata": {},
   "outputs": [],
   "source": [
    "df1[\"id\"]=df1[\"id\"].astype(\"str\")"
   ]
  },
  {
   "cell_type": "code",
   "execution_count": 9,
   "id": "d4d2da81",
   "metadata": {},
   "outputs": [
    {
     "data": {
      "text/html": [
       "<div>\n",
       "<style scoped>\n",
       "    .dataframe tbody tr th:only-of-type {\n",
       "        vertical-align: middle;\n",
       "    }\n",
       "\n",
       "    .dataframe tbody tr th {\n",
       "        vertical-align: top;\n",
       "    }\n",
       "\n",
       "    .dataframe thead th {\n",
       "        text-align: right;\n",
       "    }\n",
       "</style>\n",
       "<table border=\"1\" class=\"dataframe\">\n",
       "  <thead>\n",
       "    <tr style=\"text-align: right;\">\n",
       "      <th></th>\n",
       "      <th>id</th>\n",
       "      <th>keywords</th>\n",
       "    </tr>\n",
       "  </thead>\n",
       "  <tbody>\n",
       "    <tr>\n",
       "      <th>0</th>\n",
       "      <td>862</td>\n",
       "      <td>[{'id': 931, 'name': 'jealousy'}, {'id': 4290,...</td>\n",
       "    </tr>\n",
       "    <tr>\n",
       "      <th>1</th>\n",
       "      <td>8844</td>\n",
       "      <td>[{'id': 10090, 'name': 'board game'}, {'id': 1...</td>\n",
       "    </tr>\n",
       "    <tr>\n",
       "      <th>2</th>\n",
       "      <td>15602</td>\n",
       "      <td>[{'id': 1495, 'name': 'fishing'}, {'id': 12392...</td>\n",
       "    </tr>\n",
       "    <tr>\n",
       "      <th>3</th>\n",
       "      <td>31357</td>\n",
       "      <td>[{'id': 818, 'name': 'based on novel'}, {'id':...</td>\n",
       "    </tr>\n",
       "    <tr>\n",
       "      <th>4</th>\n",
       "      <td>11862</td>\n",
       "      <td>[{'id': 1009, 'name': 'baby'}, {'id': 1599, 'n...</td>\n",
       "    </tr>\n",
       "    <tr>\n",
       "      <th>...</th>\n",
       "      <td>...</td>\n",
       "      <td>...</td>\n",
       "    </tr>\n",
       "    <tr>\n",
       "      <th>46414</th>\n",
       "      <td>439050</td>\n",
       "      <td>[{'id': 10703, 'name': 'tragic love'}]</td>\n",
       "    </tr>\n",
       "    <tr>\n",
       "      <th>46415</th>\n",
       "      <td>111109</td>\n",
       "      <td>[{'id': 2679, 'name': 'artist'}, {'id': 14531,...</td>\n",
       "    </tr>\n",
       "    <tr>\n",
       "      <th>46416</th>\n",
       "      <td>67758</td>\n",
       "      <td>[]</td>\n",
       "    </tr>\n",
       "    <tr>\n",
       "      <th>46417</th>\n",
       "      <td>227506</td>\n",
       "      <td>[]</td>\n",
       "    </tr>\n",
       "    <tr>\n",
       "      <th>46418</th>\n",
       "      <td>461257</td>\n",
       "      <td>[]</td>\n",
       "    </tr>\n",
       "  </tbody>\n",
       "</table>\n",
       "<p>46419 rows × 2 columns</p>\n",
       "</div>"
      ],
      "text/plain": [
       "           id                                           keywords\n",
       "0         862  [{'id': 931, 'name': 'jealousy'}, {'id': 4290,...\n",
       "1        8844  [{'id': 10090, 'name': 'board game'}, {'id': 1...\n",
       "2       15602  [{'id': 1495, 'name': 'fishing'}, {'id': 12392...\n",
       "3       31357  [{'id': 818, 'name': 'based on novel'}, {'id':...\n",
       "4       11862  [{'id': 1009, 'name': 'baby'}, {'id': 1599, 'n...\n",
       "...       ...                                                ...\n",
       "46414  439050             [{'id': 10703, 'name': 'tragic love'}]\n",
       "46415  111109  [{'id': 2679, 'name': 'artist'}, {'id': 14531,...\n",
       "46416   67758                                                 []\n",
       "46417  227506                                                 []\n",
       "46418  461257                                                 []\n",
       "\n",
       "[46419 rows x 2 columns]"
      ]
     },
     "execution_count": 9,
     "metadata": {},
     "output_type": "execute_result"
    }
   ],
   "source": [
    "df2=pd.read_csv(\"keywords.csv\")\n",
    "df2"
   ]
  },
  {
   "cell_type": "code",
   "execution_count": 10,
   "id": "10550b57",
   "metadata": {},
   "outputs": [
    {
     "name": "stdout",
     "output_type": "stream",
     "text": [
      "<class 'pandas.core.frame.DataFrame'>\n",
      "RangeIndex: 46419 entries, 0 to 46418\n",
      "Data columns (total 2 columns):\n",
      " #   Column    Non-Null Count  Dtype \n",
      "---  ------    --------------  ----- \n",
      " 0   id        46419 non-null  int64 \n",
      " 1   keywords  46419 non-null  object\n",
      "dtypes: int64(1), object(1)\n",
      "memory usage: 725.4+ KB\n"
     ]
    }
   ],
   "source": [
    "df2.info()"
   ]
  },
  {
   "cell_type": "markdown",
   "id": "e645e9b6",
   "metadata": {},
   "source": [
    "# EDA and Pre-processing"
   ]
  },
  {
   "cell_type": "code",
   "execution_count": 11,
   "id": "515287b6",
   "metadata": {},
   "outputs": [],
   "source": [
    "df2[\"id\"]=df2[\"id\"].astype(\"str\")"
   ]
  },
  {
   "cell_type": "code",
   "execution_count": 12,
   "id": "92c93108",
   "metadata": {},
   "outputs": [],
   "source": [
    "# for making tags from inflormation available we'll drop most of the numeric columns which are not usefull\n",
    "# we'll keep genres, id imdb_id,original title,overview, title, cast and crew from credits.csv file,keywords.\n",
    "# above mentioned columns are suitable for creating tags that are usefull to recommend movie on similarity.\n"
   ]
  },
  {
   "cell_type": "code",
   "execution_count": 13,
   "id": "9170ae02",
   "metadata": {},
   "outputs": [
    {
     "data": {
      "text/plain": [
       "Index(['adult', 'belongs_to_collection', 'budget', 'genres', 'homepage', 'id',\n",
       "       'imdb_id', 'original_language', 'original_title', 'overview',\n",
       "       'popularity', 'poster_path', 'production_companies',\n",
       "       'production_countries', 'release_date', 'revenue', 'runtime',\n",
       "       'spoken_languages', 'status', 'tagline', 'title', 'video',\n",
       "       'vote_average', 'vote_count', 'cast', 'crew', 'keywords'],\n",
       "      dtype='object')"
      ]
     },
     "execution_count": 13,
     "metadata": {},
     "output_type": "execute_result"
    }
   ],
   "source": [
    "mv=df.merge(df1.merge(df2,on=\"id\"),on=\"id\")\n",
    "mv.columns"
   ]
  },
  {
   "cell_type": "code",
   "execution_count": 14,
   "id": "ee6a3e50",
   "metadata": {},
   "outputs": [
    {
     "data": {
      "text/html": [
       "<div>\n",
       "<style scoped>\n",
       "    .dataframe tbody tr th:only-of-type {\n",
       "        vertical-align: middle;\n",
       "    }\n",
       "\n",
       "    .dataframe tbody tr th {\n",
       "        vertical-align: top;\n",
       "    }\n",
       "\n",
       "    .dataframe thead th {\n",
       "        text-align: right;\n",
       "    }\n",
       "</style>\n",
       "<table border=\"1\" class=\"dataframe\">\n",
       "  <thead>\n",
       "    <tr style=\"text-align: right;\">\n",
       "      <th></th>\n",
       "      <th>id</th>\n",
       "      <th>imdb_id</th>\n",
       "      <th>genres</th>\n",
       "      <th>title</th>\n",
       "      <th>overview</th>\n",
       "      <th>release_date</th>\n",
       "      <th>cast</th>\n",
       "      <th>crew</th>\n",
       "      <th>keywords</th>\n",
       "    </tr>\n",
       "  </thead>\n",
       "  <tbody>\n",
       "    <tr>\n",
       "      <th>0</th>\n",
       "      <td>862</td>\n",
       "      <td>tt0114709</td>\n",
       "      <td>[{'id': 16, 'name': 'Animation'}, {'id': 35, '...</td>\n",
       "      <td>Toy Story</td>\n",
       "      <td>Led by Woody, Andy's toys live happily in his ...</td>\n",
       "      <td>1995-10-30</td>\n",
       "      <td>[{'cast_id': 14, 'character': 'Woody (voice)',...</td>\n",
       "      <td>[{'credit_id': '52fe4284c3a36847f8024f49', 'de...</td>\n",
       "      <td>[{'id': 931, 'name': 'jealousy'}, {'id': 4290,...</td>\n",
       "    </tr>\n",
       "    <tr>\n",
       "      <th>1</th>\n",
       "      <td>8844</td>\n",
       "      <td>tt0113497</td>\n",
       "      <td>[{'id': 12, 'name': 'Adventure'}, {'id': 14, '...</td>\n",
       "      <td>Jumanji</td>\n",
       "      <td>When siblings Judy and Peter discover an encha...</td>\n",
       "      <td>1995-12-15</td>\n",
       "      <td>[{'cast_id': 1, 'character': 'Alan Parrish', '...</td>\n",
       "      <td>[{'credit_id': '52fe44bfc3a36847f80a7cd1', 'de...</td>\n",
       "      <td>[{'id': 10090, 'name': 'board game'}, {'id': 1...</td>\n",
       "    </tr>\n",
       "    <tr>\n",
       "      <th>2</th>\n",
       "      <td>15602</td>\n",
       "      <td>tt0113228</td>\n",
       "      <td>[{'id': 10749, 'name': 'Romance'}, {'id': 35, ...</td>\n",
       "      <td>Grumpier Old Men</td>\n",
       "      <td>A family wedding reignites the ancient feud be...</td>\n",
       "      <td>1995-12-22</td>\n",
       "      <td>[{'cast_id': 2, 'character': 'Max Goldman', 'c...</td>\n",
       "      <td>[{'credit_id': '52fe466a9251416c75077a89', 'de...</td>\n",
       "      <td>[{'id': 1495, 'name': 'fishing'}, {'id': 12392...</td>\n",
       "    </tr>\n",
       "    <tr>\n",
       "      <th>3</th>\n",
       "      <td>31357</td>\n",
       "      <td>tt0114885</td>\n",
       "      <td>[{'id': 35, 'name': 'Comedy'}, {'id': 18, 'nam...</td>\n",
       "      <td>Waiting to Exhale</td>\n",
       "      <td>Cheated on, mistreated and stepped on, the wom...</td>\n",
       "      <td>1995-12-22</td>\n",
       "      <td>[{'cast_id': 1, 'character': \"Savannah 'Vannah...</td>\n",
       "      <td>[{'credit_id': '52fe44779251416c91011acb', 'de...</td>\n",
       "      <td>[{'id': 818, 'name': 'based on novel'}, {'id':...</td>\n",
       "    </tr>\n",
       "    <tr>\n",
       "      <th>4</th>\n",
       "      <td>11862</td>\n",
       "      <td>tt0113041</td>\n",
       "      <td>[{'id': 35, 'name': 'Comedy'}]</td>\n",
       "      <td>Father of the Bride Part II</td>\n",
       "      <td>Just when George Banks has recovered from his ...</td>\n",
       "      <td>1995-02-10</td>\n",
       "      <td>[{'cast_id': 1, 'character': 'George Banks', '...</td>\n",
       "      <td>[{'credit_id': '52fe44959251416c75039ed7', 'de...</td>\n",
       "      <td>[{'id': 1009, 'name': 'baby'}, {'id': 1599, 'n...</td>\n",
       "    </tr>\n",
       "  </tbody>\n",
       "</table>\n",
       "</div>"
      ],
      "text/plain": [
       "      id    imdb_id                                             genres  \\\n",
       "0    862  tt0114709  [{'id': 16, 'name': 'Animation'}, {'id': 35, '...   \n",
       "1   8844  tt0113497  [{'id': 12, 'name': 'Adventure'}, {'id': 14, '...   \n",
       "2  15602  tt0113228  [{'id': 10749, 'name': 'Romance'}, {'id': 35, ...   \n",
       "3  31357  tt0114885  [{'id': 35, 'name': 'Comedy'}, {'id': 18, 'nam...   \n",
       "4  11862  tt0113041                     [{'id': 35, 'name': 'Comedy'}]   \n",
       "\n",
       "                         title  \\\n",
       "0                    Toy Story   \n",
       "1                      Jumanji   \n",
       "2             Grumpier Old Men   \n",
       "3            Waiting to Exhale   \n",
       "4  Father of the Bride Part II   \n",
       "\n",
       "                                            overview release_date  \\\n",
       "0  Led by Woody, Andy's toys live happily in his ...   1995-10-30   \n",
       "1  When siblings Judy and Peter discover an encha...   1995-12-15   \n",
       "2  A family wedding reignites the ancient feud be...   1995-12-22   \n",
       "3  Cheated on, mistreated and stepped on, the wom...   1995-12-22   \n",
       "4  Just when George Banks has recovered from his ...   1995-02-10   \n",
       "\n",
       "                                                cast  \\\n",
       "0  [{'cast_id': 14, 'character': 'Woody (voice)',...   \n",
       "1  [{'cast_id': 1, 'character': 'Alan Parrish', '...   \n",
       "2  [{'cast_id': 2, 'character': 'Max Goldman', 'c...   \n",
       "3  [{'cast_id': 1, 'character': \"Savannah 'Vannah...   \n",
       "4  [{'cast_id': 1, 'character': 'George Banks', '...   \n",
       "\n",
       "                                                crew  \\\n",
       "0  [{'credit_id': '52fe4284c3a36847f8024f49', 'de...   \n",
       "1  [{'credit_id': '52fe44bfc3a36847f80a7cd1', 'de...   \n",
       "2  [{'credit_id': '52fe466a9251416c75077a89', 'de...   \n",
       "3  [{'credit_id': '52fe44779251416c91011acb', 'de...   \n",
       "4  [{'credit_id': '52fe44959251416c75039ed7', 'de...   \n",
       "\n",
       "                                            keywords  \n",
       "0  [{'id': 931, 'name': 'jealousy'}, {'id': 4290,...  \n",
       "1  [{'id': 10090, 'name': 'board game'}, {'id': 1...  \n",
       "2  [{'id': 1495, 'name': 'fishing'}, {'id': 12392...  \n",
       "3  [{'id': 818, 'name': 'based on novel'}, {'id':...  \n",
       "4  [{'id': 1009, 'name': 'baby'}, {'id': 1599, 'n...  "
      ]
     },
     "execution_count": 14,
     "metadata": {},
     "output_type": "execute_result"
    }
   ],
   "source": [
    "mv=mv[['id','imdb_id','genres','title','overview','release_date','cast', 'crew', 'keywords']]\n",
    "mv.head()"
   ]
  },
  {
   "cell_type": "code",
   "execution_count": 15,
   "id": "b7b9994b",
   "metadata": {},
   "outputs": [],
   "source": [
    "mv[\"id\"]=mv[\"id\"].astype(\"int\")"
   ]
  },
  {
   "cell_type": "code",
   "execution_count": 16,
   "id": "ca3c1caa",
   "metadata": {},
   "outputs": [
    {
     "name": "stdout",
     "output_type": "stream",
     "text": [
      "<class 'pandas.core.frame.DataFrame'>\n",
      "Int64Index: 46628 entries, 0 to 46627\n",
      "Data columns (total 9 columns):\n",
      " #   Column        Non-Null Count  Dtype \n",
      "---  ------        --------------  ----- \n",
      " 0   id            46628 non-null  int32 \n",
      " 1   imdb_id       46611 non-null  object\n",
      " 2   genres        46628 non-null  object\n",
      " 3   title         46624 non-null  object\n",
      " 4   overview      45633 non-null  object\n",
      " 5   release_date  46540 non-null  object\n",
      " 6   cast          46628 non-null  object\n",
      " 7   crew          46628 non-null  object\n",
      " 8   keywords      46628 non-null  object\n",
      "dtypes: int32(1), object(8)\n",
      "memory usage: 3.4+ MB\n"
     ]
    }
   ],
   "source": [
    "mv.info()"
   ]
  },
  {
   "cell_type": "code",
   "execution_count": 17,
   "id": "fa6f818d",
   "metadata": {},
   "outputs": [
    {
     "data": {
      "text/plain": [
       "1189"
      ]
     },
     "execution_count": 17,
     "metadata": {},
     "output_type": "execute_result"
    }
   ],
   "source": [
    "mv.duplicated().sum()"
   ]
  },
  {
   "cell_type": "code",
   "execution_count": 18,
   "id": "2395637c",
   "metadata": {},
   "outputs": [],
   "source": [
    "mv.drop_duplicates(inplace=True)"
   ]
  },
  {
   "cell_type": "code",
   "execution_count": 19,
   "id": "ec1de816",
   "metadata": {},
   "outputs": [
    {
     "data": {
      "text/plain": [
       "0"
      ]
     },
     "execution_count": 19,
     "metadata": {},
     "output_type": "execute_result"
    }
   ],
   "source": [
    "mv.duplicated().sum()"
   ]
  },
  {
   "cell_type": "code",
   "execution_count": 20,
   "id": "450b3af4",
   "metadata": {},
   "outputs": [
    {
     "data": {
      "text/plain": [
       "id                0\n",
       "imdb_id          17\n",
       "genres            0\n",
       "title             3\n",
       "overview        954\n",
       "release_date     87\n",
       "cast              0\n",
       "crew              0\n",
       "keywords          0\n",
       "dtype: int64"
      ]
     },
     "execution_count": 20,
     "metadata": {},
     "output_type": "execute_result"
    }
   ],
   "source": [
    "mv.isnull().sum()"
   ]
  },
  {
   "cell_type": "code",
   "execution_count": 21,
   "id": "31d6c4e2",
   "metadata": {},
   "outputs": [],
   "source": [
    "mv.dropna(inplace=True)"
   ]
  },
  {
   "cell_type": "code",
   "execution_count": 22,
   "id": "c05a4706",
   "metadata": {},
   "outputs": [
    {
     "name": "stdout",
     "output_type": "stream",
     "text": [
      "<class 'pandas.core.frame.DataFrame'>\n",
      "Int64Index: 44399 entries, 0 to 46627\n",
      "Data columns (total 9 columns):\n",
      " #   Column        Non-Null Count  Dtype \n",
      "---  ------        --------------  ----- \n",
      " 0   id            44399 non-null  int32 \n",
      " 1   imdb_id       44399 non-null  object\n",
      " 2   genres        44399 non-null  object\n",
      " 3   title         44399 non-null  object\n",
      " 4   overview      44399 non-null  object\n",
      " 5   release_date  44399 non-null  object\n",
      " 6   cast          44399 non-null  object\n",
      " 7   crew          44399 non-null  object\n",
      " 8   keywords      44399 non-null  object\n",
      "dtypes: int32(1), object(8)\n",
      "memory usage: 3.2+ MB\n"
     ]
    }
   ],
   "source": [
    "mv.info()"
   ]
  },
  {
   "cell_type": "code",
   "execution_count": 23,
   "id": "fae3e22b",
   "metadata": {},
   "outputs": [],
   "source": [
    "mv['release_date']=mv['release_date'].astype(\"str\")"
   ]
  },
  {
   "cell_type": "code",
   "execution_count": 24,
   "id": "57bfebb3",
   "metadata": {},
   "outputs": [],
   "source": [
    "def year_update(x):\n",
    "    if x[0:3]==\"190\":\n",
    "        return \"1900s\"\n",
    "    elif x[0:3]==\"191\":\n",
    "        return \"1910s\"\n",
    "    elif x[0:3]==\"192\":\n",
    "        return \"1920s\"\n",
    "    elif x[0:3]==\"193\":\n",
    "        return \"1930s\"\n",
    "    elif x[0:3]==\"194\":\n",
    "        return \"1940s\"\n",
    "    elif x[0:3]==\"195\":\n",
    "        return \"1950s\"\n",
    "    elif x[0:3]==\"196\":\n",
    "        return \"1960s\"\n",
    "    elif x[0:3]==\"197\":\n",
    "        return \"1970s\"\n",
    "    elif x[0:3]==\"198\":\n",
    "        return \"1980s\"\n",
    "    elif x[0:3]==\"199\":\n",
    "        return \"1990s\"\n",
    "    elif x[0:3]==\"200\":\n",
    "        return \"2000s\"\n",
    "    elif x[0:3]==\"201\":\n",
    "        return \"2010s\"\n",
    "    elif x[0:3]==\"202\":\n",
    "        return \"2020s\""
   ]
  },
  {
   "cell_type": "code",
   "execution_count": 25,
   "id": "1e46304f",
   "metadata": {},
   "outputs": [],
   "source": [
    "mv[\"release_year\"]=mv[\"release_date\"].apply(year_update)"
   ]
  },
  {
   "cell_type": "code",
   "execution_count": 26,
   "id": "3cccf95c",
   "metadata": {},
   "outputs": [
    {
     "data": {
      "text/html": [
       "<div>\n",
       "<style scoped>\n",
       "    .dataframe tbody tr th:only-of-type {\n",
       "        vertical-align: middle;\n",
       "    }\n",
       "\n",
       "    .dataframe tbody tr th {\n",
       "        vertical-align: top;\n",
       "    }\n",
       "\n",
       "    .dataframe thead th {\n",
       "        text-align: right;\n",
       "    }\n",
       "</style>\n",
       "<table border=\"1\" class=\"dataframe\">\n",
       "  <thead>\n",
       "    <tr style=\"text-align: right;\">\n",
       "      <th></th>\n",
       "      <th>id</th>\n",
       "      <th>imdb_id</th>\n",
       "      <th>genres</th>\n",
       "      <th>title</th>\n",
       "      <th>overview</th>\n",
       "      <th>release_date</th>\n",
       "      <th>cast</th>\n",
       "      <th>crew</th>\n",
       "      <th>keywords</th>\n",
       "      <th>release_year</th>\n",
       "    </tr>\n",
       "  </thead>\n",
       "  <tbody>\n",
       "    <tr>\n",
       "      <th>34826</th>\n",
       "      <td>52557</td>\n",
       "      <td>tt0083618</td>\n",
       "      <td>[{'id': 35, 'name': 'Comedy'}]</td>\n",
       "      <td>Banzai</td>\n",
       "      <td>Michel works there manically solving people's ...</td>\n",
       "      <td>1983-03-23</td>\n",
       "      <td>[{'cast_id': 1012, 'character': 'Michel Bernar...</td>\n",
       "      <td>[{'credit_id': '5344feef0e0a267bd100146c', 'de...</td>\n",
       "      <td>[]</td>\n",
       "      <td>1980s</td>\n",
       "    </tr>\n",
       "    <tr>\n",
       "      <th>34379</th>\n",
       "      <td>74945</td>\n",
       "      <td>tt1837587</td>\n",
       "      <td>[{'id': 12, 'name': 'Adventure'}, {'id': 10751...</td>\n",
       "      <td>War of the Buttons</td>\n",
       "      <td>Occupied France; Lebrac leads a play war betwe...</td>\n",
       "      <td>2011-09-20</td>\n",
       "      <td>[{'cast_id': 2, 'character': 'Simone', 'credit...</td>\n",
       "      <td>[{'credit_id': '52fe48e6c3a368484e110db3', 'de...</td>\n",
       "      <td>[{'id': 33466, 'name': 'button'}, {'id': 18368...</td>\n",
       "      <td>2010s</td>\n",
       "    </tr>\n",
       "    <tr>\n",
       "      <th>27586</th>\n",
       "      <td>38472</td>\n",
       "      <td>tt0039912</td>\n",
       "      <td>[{'id': 80, 'name': 'Crime'}, {'id': 9648, 'na...</td>\n",
       "      <td>The Trap</td>\n",
       "      <td>When a troupe of showgirls with their impresar...</td>\n",
       "      <td>1946-11-30</td>\n",
       "      <td>[{'cast_id': 4, 'character': 'Charlie Chan', '...</td>\n",
       "      <td>[{'credit_id': '52fe46bf9251416c9105e5b9', 'de...</td>\n",
       "      <td>[{'id': 159951, 'name': 'charlie chan'}]</td>\n",
       "      <td>1940s</td>\n",
       "    </tr>\n",
       "    <tr>\n",
       "      <th>35346</th>\n",
       "      <td>246355</td>\n",
       "      <td>tt0495241</td>\n",
       "      <td>[{'id': 80, 'name': 'Crime'}, {'id': 27, 'name...</td>\n",
       "      <td>Saw</td>\n",
       "      <td>Saw is an Australian nine-and-a-half-minute sh...</td>\n",
       "      <td>2003-01-01</td>\n",
       "      <td>[{'cast_id': 3, 'character': 'David', 'credit_...</td>\n",
       "      <td>[{'credit_id': '52fe4f13c3a36847f82bbbf5', 'de...</td>\n",
       "      <td>[{'id': 1930, 'name': 'kidnapping'}, {'id': 58...</td>\n",
       "      <td>2000s</td>\n",
       "    </tr>\n",
       "    <tr>\n",
       "      <th>19774</th>\n",
       "      <td>40709</td>\n",
       "      <td>tt1192431</td>\n",
       "      <td>[{'id': 10752, 'name': 'War'}, {'id': 14, 'nam...</td>\n",
       "      <td>We Are From The Future</td>\n",
       "      <td>Four 21st century treasure seekers are transpo...</td>\n",
       "      <td>2008-01-01</td>\n",
       "      <td>[{'cast_id': 12, 'character': 'Borman', 'credi...</td>\n",
       "      <td>[{'credit_id': '5310fd01c3a36829e20016bb', 'de...</td>\n",
       "      <td>[]</td>\n",
       "      <td>2000s</td>\n",
       "    </tr>\n",
       "  </tbody>\n",
       "</table>\n",
       "</div>"
      ],
      "text/plain": [
       "           id    imdb_id                                             genres  \\\n",
       "34826   52557  tt0083618                     [{'id': 35, 'name': 'Comedy'}]   \n",
       "34379   74945  tt1837587  [{'id': 12, 'name': 'Adventure'}, {'id': 10751...   \n",
       "27586   38472  tt0039912  [{'id': 80, 'name': 'Crime'}, {'id': 9648, 'na...   \n",
       "35346  246355  tt0495241  [{'id': 80, 'name': 'Crime'}, {'id': 27, 'name...   \n",
       "19774   40709  tt1192431  [{'id': 10752, 'name': 'War'}, {'id': 14, 'nam...   \n",
       "\n",
       "                        title  \\\n",
       "34826                  Banzai   \n",
       "34379      War of the Buttons   \n",
       "27586                The Trap   \n",
       "35346                     Saw   \n",
       "19774  We Are From The Future   \n",
       "\n",
       "                                                overview release_date  \\\n",
       "34826  Michel works there manically solving people's ...   1983-03-23   \n",
       "34379  Occupied France; Lebrac leads a play war betwe...   2011-09-20   \n",
       "27586  When a troupe of showgirls with their impresar...   1946-11-30   \n",
       "35346  Saw is an Australian nine-and-a-half-minute sh...   2003-01-01   \n",
       "19774  Four 21st century treasure seekers are transpo...   2008-01-01   \n",
       "\n",
       "                                                    cast  \\\n",
       "34826  [{'cast_id': 1012, 'character': 'Michel Bernar...   \n",
       "34379  [{'cast_id': 2, 'character': 'Simone', 'credit...   \n",
       "27586  [{'cast_id': 4, 'character': 'Charlie Chan', '...   \n",
       "35346  [{'cast_id': 3, 'character': 'David', 'credit_...   \n",
       "19774  [{'cast_id': 12, 'character': 'Borman', 'credi...   \n",
       "\n",
       "                                                    crew  \\\n",
       "34826  [{'credit_id': '5344feef0e0a267bd100146c', 'de...   \n",
       "34379  [{'credit_id': '52fe48e6c3a368484e110db3', 'de...   \n",
       "27586  [{'credit_id': '52fe46bf9251416c9105e5b9', 'de...   \n",
       "35346  [{'credit_id': '52fe4f13c3a36847f82bbbf5', 'de...   \n",
       "19774  [{'credit_id': '5310fd01c3a36829e20016bb', 'de...   \n",
       "\n",
       "                                                keywords release_year  \n",
       "34826                                                 []        1980s  \n",
       "34379  [{'id': 33466, 'name': 'button'}, {'id': 18368...        2010s  \n",
       "27586           [{'id': 159951, 'name': 'charlie chan'}]        1940s  \n",
       "35346  [{'id': 1930, 'name': 'kidnapping'}, {'id': 58...        2000s  \n",
       "19774                                                 []        2000s  "
      ]
     },
     "execution_count": 26,
     "metadata": {},
     "output_type": "execute_result"
    }
   ],
   "source": [
    "mv.sample(5)"
   ]
  },
  {
   "cell_type": "code",
   "execution_count": 32,
   "id": "52a1fa66",
   "metadata": {},
   "outputs": [
    {
     "data": {
      "image/png": "[encoded data removed]",
      "text/plain": [
       "<Figure size 576x576 with 1 Axes>"
      ]
     },
     "metadata": {
      "needs_background": "light"
     },
     "output_type": "display_data"
    }
   ],
   "source": [
    "plt.figure(figsize=(8,8))\n",
    "mv[\"release_year\"].value_counts().plot(kind=\"bar\")\n",
    "plt.show()"
   ]
  },
  {
   "cell_type": "code",
   "execution_count": 27,
   "id": "51f59bf9",
   "metadata": {},
   "outputs": [
    {
     "name": "stdout",
     "output_type": "stream",
     "text": [
      "<class 'pandas.core.frame.DataFrame'>\n",
      "Int64Index: 44399 entries, 0 to 46627\n",
      "Data columns (total 10 columns):\n",
      " #   Column        Non-Null Count  Dtype \n",
      "---  ------        --------------  ----- \n",
      " 0   id            44399 non-null  int32 \n",
      " 1   imdb_id       44399 non-null  object\n",
      " 2   genres        44399 non-null  object\n",
      " 3   title         44399 non-null  object\n",
      " 4   overview      44399 non-null  object\n",
      " 5   release_date  44399 non-null  object\n",
      " 6   cast          44399 non-null  object\n",
      " 7   crew          44399 non-null  object\n",
      " 8   keywords      44399 non-null  object\n",
      " 9   release_year  44319 non-null  object\n",
      "dtypes: int32(1), object(9)\n",
      "memory usage: 3.6+ MB\n"
     ]
    }
   ],
   "source": [
    "mv.info()"
   ]
  },
  {
   "cell_type": "code",
   "execution_count": 28,
   "id": "67b853a4",
   "metadata": {},
   "outputs": [],
   "source": [
    "mv=mv[mv[\"keywords\"]!=\"[]\"]"
   ]
  },
  {
   "cell_type": "code",
   "execution_count": 29,
   "id": "59a9deea",
   "metadata": {},
   "outputs": [],
   "source": [
    "mv=mv[mv[\"genres\"]!=\"[]\"]"
   ]
  },
  {
   "cell_type": "code",
   "execution_count": 30,
   "id": "1590983f",
   "metadata": {},
   "outputs": [],
   "source": [
    "mv=mv[mv[\"cast\"]!=\"[]\"]"
   ]
  },
  {
   "cell_type": "code",
   "execution_count": 31,
   "id": "9ed5032c",
   "metadata": {},
   "outputs": [
    {
     "name": "stdout",
     "output_type": "stream",
     "text": [
      "<class 'pandas.core.frame.DataFrame'>\n",
      "Int64Index: 29711 entries, 0 to 46624\n",
      "Data columns (total 10 columns):\n",
      " #   Column        Non-Null Count  Dtype \n",
      "---  ------        --------------  ----- \n",
      " 0   id            29711 non-null  int32 \n",
      " 1   imdb_id       29711 non-null  object\n",
      " 2   genres        29711 non-null  object\n",
      " 3   title         29711 non-null  object\n",
      " 4   overview      29711 non-null  object\n",
      " 5   release_date  29711 non-null  object\n",
      " 6   cast          29711 non-null  object\n",
      " 7   crew          29711 non-null  object\n",
      " 8   keywords      29711 non-null  object\n",
      " 9   release_year  29679 non-null  object\n",
      "dtypes: int32(1), object(9)\n",
      "memory usage: 2.4+ MB\n"
     ]
    }
   ],
   "source": [
    "mv.info()"
   ]
  },
  {
   "cell_type": "code",
   "execution_count": 32,
   "id": "6e163df5",
   "metadata": {},
   "outputs": [
    {
     "data": {
      "text/html": [
       "<div>\n",
       "<style scoped>\n",
       "    .dataframe tbody tr th:only-of-type {\n",
       "        vertical-align: middle;\n",
       "    }\n",
       "\n",
       "    .dataframe tbody tr th {\n",
       "        vertical-align: top;\n",
       "    }\n",
       "\n",
       "    .dataframe thead th {\n",
       "        text-align: right;\n",
       "    }\n",
       "</style>\n",
       "<table border=\"1\" class=\"dataframe\">\n",
       "  <thead>\n",
       "    <tr style=\"text-align: right;\">\n",
       "      <th></th>\n",
       "      <th>id</th>\n",
       "      <th>imdb_id</th>\n",
       "      <th>genres</th>\n",
       "      <th>title</th>\n",
       "      <th>overview</th>\n",
       "      <th>release_date</th>\n",
       "      <th>cast</th>\n",
       "      <th>crew</th>\n",
       "      <th>keywords</th>\n",
       "      <th>release_year</th>\n",
       "    </tr>\n",
       "  </thead>\n",
       "  <tbody>\n",
       "    <tr>\n",
       "      <th>0</th>\n",
       "      <td>862</td>\n",
       "      <td>tt0114709</td>\n",
       "      <td>[{'id': 16, 'name': 'Animation'}, {'id': 35, '...</td>\n",
       "      <td>Toy Story</td>\n",
       "      <td>Led by Woody, Andy's toys live happily in his ...</td>\n",
       "      <td>1995-10-30</td>\n",
       "      <td>[{'cast_id': 14, 'character': 'Woody (voice)',...</td>\n",
       "      <td>[{'credit_id': '52fe4284c3a36847f8024f49', 'de...</td>\n",
       "      <td>[{'id': 931, 'name': 'jealousy'}, {'id': 4290,...</td>\n",
       "      <td>1990s</td>\n",
       "    </tr>\n",
       "    <tr>\n",
       "      <th>1</th>\n",
       "      <td>8844</td>\n",
       "      <td>tt0113497</td>\n",
       "      <td>[{'id': 12, 'name': 'Adventure'}, {'id': 14, '...</td>\n",
       "      <td>Jumanji</td>\n",
       "      <td>When siblings Judy and Peter discover an encha...</td>\n",
       "      <td>1995-12-15</td>\n",
       "      <td>[{'cast_id': 1, 'character': 'Alan Parrish', '...</td>\n",
       "      <td>[{'credit_id': '52fe44bfc3a36847f80a7cd1', 'de...</td>\n",
       "      <td>[{'id': 10090, 'name': 'board game'}, {'id': 1...</td>\n",
       "      <td>1990s</td>\n",
       "    </tr>\n",
       "    <tr>\n",
       "      <th>2</th>\n",
       "      <td>15602</td>\n",
       "      <td>tt0113228</td>\n",
       "      <td>[{'id': 10749, 'name': 'Romance'}, {'id': 35, ...</td>\n",
       "      <td>Grumpier Old Men</td>\n",
       "      <td>A family wedding reignites the ancient feud be...</td>\n",
       "      <td>1995-12-22</td>\n",
       "      <td>[{'cast_id': 2, 'character': 'Max Goldman', 'c...</td>\n",
       "      <td>[{'credit_id': '52fe466a9251416c75077a89', 'de...</td>\n",
       "      <td>[{'id': 1495, 'name': 'fishing'}, {'id': 12392...</td>\n",
       "      <td>1990s</td>\n",
       "    </tr>\n",
       "    <tr>\n",
       "      <th>3</th>\n",
       "      <td>31357</td>\n",
       "      <td>tt0114885</td>\n",
       "      <td>[{'id': 35, 'name': 'Comedy'}, {'id': 18, 'nam...</td>\n",
       "      <td>Waiting to Exhale</td>\n",
       "      <td>Cheated on, mistreated and stepped on, the wom...</td>\n",
       "      <td>1995-12-22</td>\n",
       "      <td>[{'cast_id': 1, 'character': \"Savannah 'Vannah...</td>\n",
       "      <td>[{'credit_id': '52fe44779251416c91011acb', 'de...</td>\n",
       "      <td>[{'id': 818, 'name': 'based on novel'}, {'id':...</td>\n",
       "      <td>1990s</td>\n",
       "    </tr>\n",
       "    <tr>\n",
       "      <th>4</th>\n",
       "      <td>11862</td>\n",
       "      <td>tt0113041</td>\n",
       "      <td>[{'id': 35, 'name': 'Comedy'}]</td>\n",
       "      <td>Father of the Bride Part II</td>\n",
       "      <td>Just when George Banks has recovered from his ...</td>\n",
       "      <td>1995-02-10</td>\n",
       "      <td>[{'cast_id': 1, 'character': 'George Banks', '...</td>\n",
       "      <td>[{'credit_id': '52fe44959251416c75039ed7', 'de...</td>\n",
       "      <td>[{'id': 1009, 'name': 'baby'}, {'id': 1599, 'n...</td>\n",
       "      <td>1990s</td>\n",
       "    </tr>\n",
       "  </tbody>\n",
       "</table>\n",
       "</div>"
      ],
      "text/plain": [
       "      id    imdb_id                                             genres  \\\n",
       "0    862  tt0114709  [{'id': 16, 'name': 'Animation'}, {'id': 35, '...   \n",
       "1   8844  tt0113497  [{'id': 12, 'name': 'Adventure'}, {'id': 14, '...   \n",
       "2  15602  tt0113228  [{'id': 10749, 'name': 'Romance'}, {'id': 35, ...   \n",
       "3  31357  tt0114885  [{'id': 35, 'name': 'Comedy'}, {'id': 18, 'nam...   \n",
       "4  11862  tt0113041                     [{'id': 35, 'name': 'Comedy'}]   \n",
       "\n",
       "                         title  \\\n",
       "0                    Toy Story   \n",
       "1                      Jumanji   \n",
       "2             Grumpier Old Men   \n",
       "3            Waiting to Exhale   \n",
       "4  Father of the Bride Part II   \n",
       "\n",
       "                                            overview release_date  \\\n",
       "0  Led by Woody, Andy's toys live happily in his ...   1995-10-30   \n",
       "1  When siblings Judy and Peter discover an encha...   1995-12-15   \n",
       "2  A family wedding reignites the ancient feud be...   1995-12-22   \n",
       "3  Cheated on, mistreated and stepped on, the wom...   1995-12-22   \n",
       "4  Just when George Banks has recovered from his ...   1995-02-10   \n",
       "\n",
       "                                                cast  \\\n",
       "0  [{'cast_id': 14, 'character': 'Woody (voice)',...   \n",
       "1  [{'cast_id': 1, 'character': 'Alan Parrish', '...   \n",
       "2  [{'cast_id': 2, 'character': 'Max Goldman', 'c...   \n",
       "3  [{'cast_id': 1, 'character': \"Savannah 'Vannah...   \n",
       "4  [{'cast_id': 1, 'character': 'George Banks', '...   \n",
       "\n",
       "                                                crew  \\\n",
       "0  [{'credit_id': '52fe4284c3a36847f8024f49', 'de...   \n",
       "1  [{'credit_id': '52fe44bfc3a36847f80a7cd1', 'de...   \n",
       "2  [{'credit_id': '52fe466a9251416c75077a89', 'de...   \n",
       "3  [{'credit_id': '52fe44779251416c91011acb', 'de...   \n",
       "4  [{'credit_id': '52fe44959251416c75039ed7', 'de...   \n",
       "\n",
       "                                            keywords release_year  \n",
       "0  [{'id': 931, 'name': 'jealousy'}, {'id': 4290,...        1990s  \n",
       "1  [{'id': 10090, 'name': 'board game'}, {'id': 1...        1990s  \n",
       "2  [{'id': 1495, 'name': 'fishing'}, {'id': 12392...        1990s  \n",
       "3  [{'id': 818, 'name': 'based on novel'}, {'id':...        1990s  \n",
       "4  [{'id': 1009, 'name': 'baby'}, {'id': 1599, 'n...        1990s  "
      ]
     },
     "execution_count": 32,
     "metadata": {},
     "output_type": "execute_result"
    }
   ],
   "source": [
    "mv.head()"
   ]
  },
  {
   "cell_type": "code",
   "execution_count": 33,
   "id": "78cfa378",
   "metadata": {},
   "outputs": [
    {
     "data": {
      "text/plain": [
       "\"[{'id': 16, 'name': 'Animation'}, {'id': 35, 'name': 'Comedy'}, {'id': 10751, 'name': 'Family'}]\""
      ]
     },
     "execution_count": 33,
     "metadata": {},
     "output_type": "execute_result"
    }
   ],
   "source": [
    "mv.loc[0,\"genres\"]"
   ]
  },
  {
   "cell_type": "code",
   "execution_count": 34,
   "id": "11a3dcc3",
   "metadata": {},
   "outputs": [],
   "source": [
    "#dictionaries are in list and entire list is string\n",
    "import ast\n",
    "def get_values(x):\n",
    "    l=[]\n",
    "    for i in ast.literal_eval(x):\n",
    "        l.append(i[\"name\"])\n",
    "    return l"
   ]
  },
  {
   "cell_type": "code",
   "execution_count": 35,
   "id": "63832e32",
   "metadata": {},
   "outputs": [],
   "source": [
    "mv[\"genres\"]=mv[\"genres\"].apply(get_values)"
   ]
  },
  {
   "cell_type": "code",
   "execution_count": 36,
   "id": "c1b954e2",
   "metadata": {},
   "outputs": [
    {
     "data": {
      "text/html": [
       "<div>\n",
       "<style scoped>\n",
       "    .dataframe tbody tr th:only-of-type {\n",
       "        vertical-align: middle;\n",
       "    }\n",
       "\n",
       "    .dataframe tbody tr th {\n",
       "        vertical-align: top;\n",
       "    }\n",
       "\n",
       "    .dataframe thead th {\n",
       "        text-align: right;\n",
       "    }\n",
       "</style>\n",
       "<table border=\"1\" class=\"dataframe\">\n",
       "  <thead>\n",
       "    <tr style=\"text-align: right;\">\n",
       "      <th></th>\n",
       "      <th>id</th>\n",
       "      <th>imdb_id</th>\n",
       "      <th>genres</th>\n",
       "      <th>title</th>\n",
       "      <th>overview</th>\n",
       "      <th>release_date</th>\n",
       "      <th>cast</th>\n",
       "      <th>crew</th>\n",
       "      <th>keywords</th>\n",
       "      <th>release_year</th>\n",
       "    </tr>\n",
       "  </thead>\n",
       "  <tbody>\n",
       "    <tr>\n",
       "      <th>0</th>\n",
       "      <td>862</td>\n",
       "      <td>tt0114709</td>\n",
       "      <td>[Animation, Comedy, Family]</td>\n",
       "      <td>Toy Story</td>\n",
       "      <td>Led by Woody, Andy's toys live happily in his ...</td>\n",
       "      <td>1995-10-30</td>\n",
       "      <td>[{'cast_id': 14, 'character': 'Woody (voice)',...</td>\n",
       "      <td>[{'credit_id': '52fe4284c3a36847f8024f49', 'de...</td>\n",
       "      <td>[{'id': 931, 'name': 'jealousy'}, {'id': 4290,...</td>\n",
       "      <td>1990s</td>\n",
       "    </tr>\n",
       "    <tr>\n",
       "      <th>1</th>\n",
       "      <td>8844</td>\n",
       "      <td>tt0113497</td>\n",
       "      <td>[Adventure, Fantasy, Family]</td>\n",
       "      <td>Jumanji</td>\n",
       "      <td>When siblings Judy and Peter discover an encha...</td>\n",
       "      <td>1995-12-15</td>\n",
       "      <td>[{'cast_id': 1, 'character': 'Alan Parrish', '...</td>\n",
       "      <td>[{'credit_id': '52fe44bfc3a36847f80a7cd1', 'de...</td>\n",
       "      <td>[{'id': 10090, 'name': 'board game'}, {'id': 1...</td>\n",
       "      <td>1990s</td>\n",
       "    </tr>\n",
       "    <tr>\n",
       "      <th>2</th>\n",
       "      <td>15602</td>\n",
       "      <td>tt0113228</td>\n",
       "      <td>[Romance, Comedy]</td>\n",
       "      <td>Grumpier Old Men</td>\n",
       "      <td>A family wedding reignites the ancient feud be...</td>\n",
       "      <td>1995-12-22</td>\n",
       "      <td>[{'cast_id': 2, 'character': 'Max Goldman', 'c...</td>\n",
       "      <td>[{'credit_id': '52fe466a9251416c75077a89', 'de...</td>\n",
       "      <td>[{'id': 1495, 'name': 'fishing'}, {'id': 12392...</td>\n",
       "      <td>1990s</td>\n",
       "    </tr>\n",
       "    <tr>\n",
       "      <th>3</th>\n",
       "      <td>31357</td>\n",
       "      <td>tt0114885</td>\n",
       "      <td>[Comedy, Drama, Romance]</td>\n",
       "      <td>Waiting to Exhale</td>\n",
       "      <td>Cheated on, mistreated and stepped on, the wom...</td>\n",
       "      <td>1995-12-22</td>\n",
       "      <td>[{'cast_id': 1, 'character': \"Savannah 'Vannah...</td>\n",
       "      <td>[{'credit_id': '52fe44779251416c91011acb', 'de...</td>\n",
       "      <td>[{'id': 818, 'name': 'based on novel'}, {'id':...</td>\n",
       "      <td>1990s</td>\n",
       "    </tr>\n",
       "    <tr>\n",
       "      <th>4</th>\n",
       "      <td>11862</td>\n",
       "      <td>tt0113041</td>\n",
       "      <td>[Comedy]</td>\n",
       "      <td>Father of the Bride Part II</td>\n",
       "      <td>Just when George Banks has recovered from his ...</td>\n",
       "      <td>1995-02-10</td>\n",
       "      <td>[{'cast_id': 1, 'character': 'George Banks', '...</td>\n",
       "      <td>[{'credit_id': '52fe44959251416c75039ed7', 'de...</td>\n",
       "      <td>[{'id': 1009, 'name': 'baby'}, {'id': 1599, 'n...</td>\n",
       "      <td>1990s</td>\n",
       "    </tr>\n",
       "  </tbody>\n",
       "</table>\n",
       "</div>"
      ],
      "text/plain": [
       "      id    imdb_id                        genres  \\\n",
       "0    862  tt0114709   [Animation, Comedy, Family]   \n",
       "1   8844  tt0113497  [Adventure, Fantasy, Family]   \n",
       "2  15602  tt0113228             [Romance, Comedy]   \n",
       "3  31357  tt0114885      [Comedy, Drama, Romance]   \n",
       "4  11862  tt0113041                      [Comedy]   \n",
       "\n",
       "                         title  \\\n",
       "0                    Toy Story   \n",
       "1                      Jumanji   \n",
       "2             Grumpier Old Men   \n",
       "3            Waiting to Exhale   \n",
       "4  Father of the Bride Part II   \n",
       "\n",
       "                                            overview release_date  \\\n",
       "0  Led by Woody, Andy's toys live happily in his ...   1995-10-30   \n",
       "1  When siblings Judy and Peter discover an encha...   1995-12-15   \n",
       "2  A family wedding reignites the ancient feud be...   1995-12-22   \n",
       "3  Cheated on, mistreated and stepped on, the wom...   1995-12-22   \n",
       "4  Just when George Banks has recovered from his ...   1995-02-10   \n",
       "\n",
       "                                                cast  \\\n",
       "0  [{'cast_id': 14, 'character': 'Woody (voice)',...   \n",
       "1  [{'cast_id': 1, 'character': 'Alan Parrish', '...   \n",
       "2  [{'cast_id': 2, 'character': 'Max Goldman', 'c...   \n",
       "3  [{'cast_id': 1, 'character': \"Savannah 'Vannah...   \n",
       "4  [{'cast_id': 1, 'character': 'George Banks', '...   \n",
       "\n",
       "                                                crew  \\\n",
       "0  [{'credit_id': '52fe4284c3a36847f8024f49', 'de...   \n",
       "1  [{'credit_id': '52fe44bfc3a36847f80a7cd1', 'de...   \n",
       "2  [{'credit_id': '52fe466a9251416c75077a89', 'de...   \n",
       "3  [{'credit_id': '52fe44779251416c91011acb', 'de...   \n",
       "4  [{'credit_id': '52fe44959251416c75039ed7', 'de...   \n",
       "\n",
       "                                            keywords release_year  \n",
       "0  [{'id': 931, 'name': 'jealousy'}, {'id': 4290,...        1990s  \n",
       "1  [{'id': 10090, 'name': 'board game'}, {'id': 1...        1990s  \n",
       "2  [{'id': 1495, 'name': 'fishing'}, {'id': 12392...        1990s  \n",
       "3  [{'id': 818, 'name': 'based on novel'}, {'id':...        1990s  \n",
       "4  [{'id': 1009, 'name': 'baby'}, {'id': 1599, 'n...        1990s  "
      ]
     },
     "execution_count": 36,
     "metadata": {},
     "output_type": "execute_result"
    }
   ],
   "source": [
    "mv.head()"
   ]
  },
  {
   "cell_type": "code",
   "execution_count": 37,
   "id": "7d02e3f7",
   "metadata": {},
   "outputs": [
    {
     "data": {
      "text/plain": [
       "'[{\\'id\\': 10090, \\'name\\': \\'board game\\'}, {\\'id\\': 10941, \\'name\\': \\'disappearance\\'}, {\\'id\\': 15101, \\'name\\': \"based on children\\'s book\"}, {\\'id\\': 33467, \\'name\\': \\'new home\\'}, {\\'id\\': 158086, \\'name\\': \\'recluse\\'}, {\\'id\\': 158091, \\'name\\': \\'giant insect\\'}]'"
      ]
     },
     "execution_count": 37,
     "metadata": {},
     "output_type": "execute_result"
    }
   ],
   "source": [
    "mv.loc[1,\"keywords\"]"
   ]
  },
  {
   "cell_type": "code",
   "execution_count": 38,
   "id": "e8ec3686",
   "metadata": {},
   "outputs": [],
   "source": [
    "mv[\"keywords\"]=mv[\"keywords\"].apply(get_values)"
   ]
  },
  {
   "cell_type": "code",
   "execution_count": 39,
   "id": "13d616d8",
   "metadata": {},
   "outputs": [
    {
     "data": {
      "text/html": [
       "<div>\n",
       "<style scoped>\n",
       "    .dataframe tbody tr th:only-of-type {\n",
       "        vertical-align: middle;\n",
       "    }\n",
       "\n",
       "    .dataframe tbody tr th {\n",
       "        vertical-align: top;\n",
       "    }\n",
       "\n",
       "    .dataframe thead th {\n",
       "        text-align: right;\n",
       "    }\n",
       "</style>\n",
       "<table border=\"1\" class=\"dataframe\">\n",
       "  <thead>\n",
       "    <tr style=\"text-align: right;\">\n",
       "      <th></th>\n",
       "      <th>id</th>\n",
       "      <th>imdb_id</th>\n",
       "      <th>genres</th>\n",
       "      <th>title</th>\n",
       "      <th>overview</th>\n",
       "      <th>release_date</th>\n",
       "      <th>cast</th>\n",
       "      <th>crew</th>\n",
       "      <th>keywords</th>\n",
       "      <th>release_year</th>\n",
       "    </tr>\n",
       "  </thead>\n",
       "  <tbody>\n",
       "    <tr>\n",
       "      <th>0</th>\n",
       "      <td>862</td>\n",
       "      <td>tt0114709</td>\n",
       "      <td>[Animation, Comedy, Family]</td>\n",
       "      <td>Toy Story</td>\n",
       "      <td>Led by Woody, Andy's toys live happily in his ...</td>\n",
       "      <td>1995-10-30</td>\n",
       "      <td>[{'cast_id': 14, 'character': 'Woody (voice)',...</td>\n",
       "      <td>[{'credit_id': '52fe4284c3a36847f8024f49', 'de...</td>\n",
       "      <td>[jealousy, toy, boy, friendship, friends, riva...</td>\n",
       "      <td>1990s</td>\n",
       "    </tr>\n",
       "    <tr>\n",
       "      <th>1</th>\n",
       "      <td>8844</td>\n",
       "      <td>tt0113497</td>\n",
       "      <td>[Adventure, Fantasy, Family]</td>\n",
       "      <td>Jumanji</td>\n",
       "      <td>When siblings Judy and Peter discover an encha...</td>\n",
       "      <td>1995-12-15</td>\n",
       "      <td>[{'cast_id': 1, 'character': 'Alan Parrish', '...</td>\n",
       "      <td>[{'credit_id': '52fe44bfc3a36847f80a7cd1', 'de...</td>\n",
       "      <td>[board game, disappearance, based on children'...</td>\n",
       "      <td>1990s</td>\n",
       "    </tr>\n",
       "    <tr>\n",
       "      <th>2</th>\n",
       "      <td>15602</td>\n",
       "      <td>tt0113228</td>\n",
       "      <td>[Romance, Comedy]</td>\n",
       "      <td>Grumpier Old Men</td>\n",
       "      <td>A family wedding reignites the ancient feud be...</td>\n",
       "      <td>1995-12-22</td>\n",
       "      <td>[{'cast_id': 2, 'character': 'Max Goldman', 'c...</td>\n",
       "      <td>[{'credit_id': '52fe466a9251416c75077a89', 'de...</td>\n",
       "      <td>[fishing, best friend, duringcreditsstinger, o...</td>\n",
       "      <td>1990s</td>\n",
       "    </tr>\n",
       "    <tr>\n",
       "      <th>3</th>\n",
       "      <td>31357</td>\n",
       "      <td>tt0114885</td>\n",
       "      <td>[Comedy, Drama, Romance]</td>\n",
       "      <td>Waiting to Exhale</td>\n",
       "      <td>Cheated on, mistreated and stepped on, the wom...</td>\n",
       "      <td>1995-12-22</td>\n",
       "      <td>[{'cast_id': 1, 'character': \"Savannah 'Vannah...</td>\n",
       "      <td>[{'credit_id': '52fe44779251416c91011acb', 'de...</td>\n",
       "      <td>[based on novel, interracial relationship, sin...</td>\n",
       "      <td>1990s</td>\n",
       "    </tr>\n",
       "    <tr>\n",
       "      <th>4</th>\n",
       "      <td>11862</td>\n",
       "      <td>tt0113041</td>\n",
       "      <td>[Comedy]</td>\n",
       "      <td>Father of the Bride Part II</td>\n",
       "      <td>Just when George Banks has recovered from his ...</td>\n",
       "      <td>1995-02-10</td>\n",
       "      <td>[{'cast_id': 1, 'character': 'George Banks', '...</td>\n",
       "      <td>[{'credit_id': '52fe44959251416c75039ed7', 'de...</td>\n",
       "      <td>[baby, midlife crisis, confidence, aging, daug...</td>\n",
       "      <td>1990s</td>\n",
       "    </tr>\n",
       "  </tbody>\n",
       "</table>\n",
       "</div>"
      ],
      "text/plain": [
       "      id    imdb_id                        genres  \\\n",
       "0    862  tt0114709   [Animation, Comedy, Family]   \n",
       "1   8844  tt0113497  [Adventure, Fantasy, Family]   \n",
       "2  15602  tt0113228             [Romance, Comedy]   \n",
       "3  31357  tt0114885      [Comedy, Drama, Romance]   \n",
       "4  11862  tt0113041                      [Comedy]   \n",
       "\n",
       "                         title  \\\n",
       "0                    Toy Story   \n",
       "1                      Jumanji   \n",
       "2             Grumpier Old Men   \n",
       "3            Waiting to Exhale   \n",
       "4  Father of the Bride Part II   \n",
       "\n",
       "                                            overview release_date  \\\n",
       "0  Led by Woody, Andy's toys live happily in his ...   1995-10-30   \n",
       "1  When siblings Judy and Peter discover an encha...   1995-12-15   \n",
       "2  A family wedding reignites the ancient feud be...   1995-12-22   \n",
       "3  Cheated on, mistreated and stepped on, the wom...   1995-12-22   \n",
       "4  Just when George Banks has recovered from his ...   1995-02-10   \n",
       "\n",
       "                                                cast  \\\n",
       "0  [{'cast_id': 14, 'character': 'Woody (voice)',...   \n",
       "1  [{'cast_id': 1, 'character': 'Alan Parrish', '...   \n",
       "2  [{'cast_id': 2, 'character': 'Max Goldman', 'c...   \n",
       "3  [{'cast_id': 1, 'character': \"Savannah 'Vannah...   \n",
       "4  [{'cast_id': 1, 'character': 'George Banks', '...   \n",
       "\n",
       "                                                crew  \\\n",
       "0  [{'credit_id': '52fe4284c3a36847f8024f49', 'de...   \n",
       "1  [{'credit_id': '52fe44bfc3a36847f80a7cd1', 'de...   \n",
       "2  [{'credit_id': '52fe466a9251416c75077a89', 'de...   \n",
       "3  [{'credit_id': '52fe44779251416c91011acb', 'de...   \n",
       "4  [{'credit_id': '52fe44959251416c75039ed7', 'de...   \n",
       "\n",
       "                                            keywords release_year  \n",
       "0  [jealousy, toy, boy, friendship, friends, riva...        1990s  \n",
       "1  [board game, disappearance, based on children'...        1990s  \n",
       "2  [fishing, best friend, duringcreditsstinger, o...        1990s  \n",
       "3  [based on novel, interracial relationship, sin...        1990s  \n",
       "4  [baby, midlife crisis, confidence, aging, daug...        1990s  "
      ]
     },
     "execution_count": 39,
     "metadata": {},
     "output_type": "execute_result"
    }
   ],
   "source": [
    "mv.head()"
   ]
  },
  {
   "cell_type": "code",
   "execution_count": 40,
   "id": "0019ccee",
   "metadata": {},
   "outputs": [
    {
     "data": {
      "text/plain": [
       "\"[{'cast_id': 1, 'character': 'Alan Parrish', 'credit_id': '52fe44bfc3a36847f80a7c73', 'gender': 2, 'id': 2157, 'name': 'Robin Williams', 'order': 0, 'profile_path': '/sojtJyIV3lkUeThD7A2oHNm8183.jpg'}, {'cast_id': 8, 'character': 'Samuel Alan Parrish / Van Pelt', 'credit_id': '52fe44bfc3a36847f80a7c99', 'gender': 2, 'id': 8537, 'name': 'Jonathan Hyde', 'order': 1, 'profile_path': '/7il5D76vx6QVRVlpVvBPEC40MBi.jpg'}, {'cast_id': 2, 'character': 'Judy Sheperd', 'credit_id': '52fe44bfc3a36847f80a7c77', 'gender': 1, 'id': 205, 'name': 'Kirsten Dunst', 'order': 2, 'profile_path': '/wBXvh6PJd0IUVNpvatPC1kzuHtm.jpg'}, {'cast_id': 24, 'character': 'Peter Shepherd', 'credit_id': '52fe44c0c3a36847f80a7ce7', 'gender': 0, 'id': 145151, 'name': 'Bradley Pierce', 'order': 3, 'profile_path': '/j6iW0vVA23GQniAPSYI6mi4hiEW.jpg'}, {'cast_id': 10, 'character': 'Sarah Whittle', 'credit_id': '52fe44bfc3a36847f80a7c9d', 'gender': 1, 'id': 5149, 'name': 'Bonnie Hunt', 'order': 4, 'profile_path': '/7spiVQwmr8siw5QCcvvdRG3c7Lf.jpg'}, {'cast_id': 25, 'character': 'Nora Shepherd', 'credit_id': '52fe44c0c3a36847f80a7ceb', 'gender': 1, 'id': 10739, 'name': 'Bebe Neuwirth', 'order': 5, 'profile_path': '/xm58rpMRVDHS0IGttw1pTlqGwkN.jpg'}, {'cast_id': 26, 'character': 'Carl Bentley', 'credit_id': '52fe44c0c3a36847f80a7cef', 'gender': 2, 'id': 58563, 'name': 'David Alan Grier', 'order': 6, 'profile_path': '/5tkt3qRZTco4sz604aTIarQ0m8W.jpg'}, {'cast_id': 11, 'character': 'Carol Anne Parrish', 'credit_id': '52fe44bfc3a36847f80a7ca1', 'gender': 1, 'id': 1276, 'name': 'Patricia Clarkson', 'order': 7, 'profile_path': '/10ZSyaUqzUlKTd60HmeiGhlytZG.jpg'}, {'cast_id': 14, 'character': 'Alan Parrish (young)', 'credit_id': '52fe44bfc3a36847f80a7cad', 'gender': 0, 'id': 46530, 'name': 'Adam Hann-Byrd', 'order': 8, 'profile_path': '/hEoqDqtMO91hYWD5iDrDesnLDlt.jpg'}, {'cast_id': 13, 'character': 'Sarah Whittle (young)', 'credit_id': '52fe44bfc3a36847f80a7ca9', 'gender': 1, 'id': 56523, 'name': 'Laura Bell Bundy', 'order': 9, 'profile_path': '/8tAVDBRoZPjKfCbBDyh4iK9JNEp.jpg'}, {'cast_id': 31, 'character': 'Exterminator', 'credit_id': '52fe44c0c3a36847f80a7cff', 'gender': 2, 'id': 51551, 'name': 'James Handy', 'order': 10, 'profile_path': '/vm0WQmuP8jEGgFTd3VCcJe7zpUi.jpg'}, {'cast_id': 12, 'character': 'Mrs. Thomas the Realtor', 'credit_id': '52fe44bfc3a36847f80a7ca5', 'gender': 1, 'id': 56522, 'name': 'Gillian Barber', 'order': 11, 'profile_path': '/qoqPX15J5jh6Sy0A9JvvRJIuw64.jpg'}, {'cast_id': 28, 'character': 'Benjamin', 'credit_id': '52fe44c0c3a36847f80a7cf3', 'gender': 2, 'id': 1000304, 'name': 'Brandon Obray', 'order': 12, 'profile_path': None}, {'cast_id': 29, 'character': 'Caleb', 'credit_id': '52fe44c0c3a36847f80a7cf7', 'gender': 0, 'id': 188949, 'name': 'Cyrus Thiedeke', 'order': 13, 'profile_path': None}, {'cast_id': 30, 'character': 'Billy Jessup', 'credit_id': '52fe44c0c3a36847f80a7cfb', 'gender': 0, 'id': 1076551, 'name': 'Gary Joseph Thorup', 'order': 14, 'profile_path': None}, {'cast_id': 32, 'character': 'Cop', 'credit_id': '5588053fc3a36838530063f5', 'gender': 0, 'id': 1480246, 'name': 'Leonard Zola', 'order': 15, 'profile_path': None}, {'cast_id': 33, 'character': 'Bum', 'credit_id': '55935687925141645a002097', 'gender': 2, 'id': 25024, 'name': 'Lloyd Berry', 'order': 16, 'profile_path': '/s7SVCOtvcuQ9wRQPZfUdahb5x88.jpg'}, {'cast_id': 34, 'character': 'Jim Shepherd', 'credit_id': '559356d09251415df8002cb7', 'gender': 2, 'id': 27110, 'name': 'Malcolm Stewart', 'order': 17, 'profile_path': '/l2vgzkLR7GRr8ugjZCILA0OiliI.jpg'}, {'cast_id': 35, 'character': 'Martha Shepherd', 'credit_id': '55935730925141645a0020ad', 'gender': 0, 'id': 53715, 'name': 'Annabel Kershaw', 'order': 18, 'profile_path': '/1VqbvAohBwFhETZtDe76JXQcxKm.jpg'}, {'cast_id': 36, 'character': 'Gun Salesman', 'credit_id': '5593576992514167fd000610', 'gender': 2, 'id': 1379424, 'name': 'Darryl Henriques', 'order': 19, 'profile_path': '/7QMHooY9ewNQlE24WKAOdwW0evU.jpg'}, {'cast_id': 37, 'character': 'Paramedic', 'credit_id': '559357ae92514152de002f42', 'gender': 0, 'id': 1235504, 'name': 'Robyn Driscoll', 'order': 20, 'profile_path': None}, {'cast_id': 50, 'character': 'Paramedic', 'credit_id': '5657803b925141018f00a5dc', 'gender': 2, 'id': 25389, 'name': 'Peter Bryant', 'order': 21, 'profile_path': '/fkcx9Tnp25UC5HlI2eW3nGvumsZ.jpg'}, {'cast_id': 39, 'character': 'Girl', 'credit_id': '559358e292514152de002f63', 'gender': 0, 'id': 1483449, 'name': 'Sarah Gilson', 'order': 22, 'profile_path': None}, {'cast_id': 40, 'character': 'Girl', 'credit_id': '5593590d92514152db002df3', 'gender': 0, 'id': 1483450, 'name': 'Florica Vlad', 'order': 23, 'profile_path': None}, {'cast_id': 41, 'character': 'Baker', 'credit_id': '55935946c3a36869d1001b4d', 'gender': 0, 'id': 1483451, 'name': 'June Lion', 'order': 24, 'profile_path': None}, {'cast_id': 42, 'character': 'Pianist', 'credit_id': '5593597692514167fd000644', 'gender': 0, 'id': 1483452, 'name': 'Brenda Lockmuller', 'order': 25, 'profile_path': None}]\""
      ]
     },
     "execution_count": 40,
     "metadata": {},
     "output_type": "execute_result"
    }
   ],
   "source": [
    "mv.loc[1,\"cast\"]\n",
    "# we'll take only top 5 actors"
   ]
  },
  {
   "cell_type": "code",
   "execution_count": 41,
   "id": "475cbc83",
   "metadata": {},
   "outputs": [],
   "source": [
    "def get_names(x):\n",
    "    l=[]\n",
    "    cnt=0\n",
    "    for i in ast.literal_eval(x):\n",
    "        if cnt!=5:\n",
    "            l.append(i[\"name\"])\n",
    "            cnt+=1\n",
    "        else:\n",
    "            break\n",
    "    return l"
   ]
  },
  {
   "cell_type": "code",
   "execution_count": 42,
   "id": "bc12158b",
   "metadata": {},
   "outputs": [],
   "source": [
    "mv[\"cast\"]=mv[\"cast\"].apply(get_names)"
   ]
  },
  {
   "cell_type": "code",
   "execution_count": 43,
   "id": "f404a1ad",
   "metadata": {},
   "outputs": [
    {
     "data": {
      "text/plain": [
       "['Robin Williams',\n",
       " 'Jonathan Hyde',\n",
       " 'Kirsten Dunst',\n",
       " 'Bradley Pierce',\n",
       " 'Bonnie Hunt']"
      ]
     },
     "execution_count": 43,
     "metadata": {},
     "output_type": "execute_result"
    }
   ],
   "source": [
    "mv.loc[1,\"cast\"]"
   ]
  },
  {
   "cell_type": "code",
   "execution_count": 44,
   "id": "453180a7",
   "metadata": {},
   "outputs": [
    {
     "data": {
      "text/plain": [
       "\"[{'credit_id': '52fe44bfc3a36847f80a7cd1', 'department': 'Production', 'gender': 2, 'id': 511, 'job': 'Executive Producer', 'name': 'Larry J. Franco', 'profile_path': None}, {'credit_id': '52fe44bfc3a36847f80a7c89', 'department': 'Writing', 'gender': 2, 'id': 876, 'job': 'Screenplay', 'name': 'Jonathan Hensleigh', 'profile_path': '/l1c4UFD3g0HVWj5f0CxXAvMAGiT.jpg'}, {'credit_id': '52fe44bfc3a36847f80a7cdd', 'department': 'Sound', 'gender': 2, 'id': 1729, 'job': 'Original Music Composer', 'name': 'James Horner', 'profile_path': '/oLOtXxXsYk8X4qq0ud4xVypXudi.jpg'}, {'credit_id': '52fe44bfc3a36847f80a7c7d', 'department': 'Directing', 'gender': 2, 'id': 4945, 'job': 'Director', 'name': 'Joe Johnston', 'profile_path': '/fok4jaO62v5IP6hkpaaAcXuw2H.jpg'}, {'credit_id': '52fe44bfc3a36847f80a7cd7', 'department': 'Editing', 'gender': 2, 'id': 4951, 'job': 'Editor', 'name': 'Robert Dalva', 'profile_path': None}, {'credit_id': '573523bec3a368025100062c', 'department': 'Production', 'gender': 0, 'id': 4952, 'job': 'Casting', 'name': 'Nancy Foy', 'profile_path': '/blCkmS4dqNsbPGuQfozHE6wgWBw.jpg'}, {'credit_id': '5722a924c3a3682d1e000b41', 'department': 'Visual Effects', 'gender': 0, 'id': 8023, 'job': 'Animation Supervisor', 'name': 'Kyle Balda', 'profile_path': '/jR8iAP6uC0V42KbUG87qBIUO3Hj.jpg'}, {'credit_id': '52fe44c0c3a36847f80a7ce3', 'department': 'Art', 'gender': 2, 'id': 9967, 'job': 'Production Design', 'name': 'James D. Bissell', 'profile_path': None}, {'credit_id': '52fe44bfc3a36847f80a7cb9', 'department': 'Production', 'gender': 2, 'id': 9184, 'job': 'Producer', 'name': 'Scott Kroopf', 'profile_path': None}, {'credit_id': '52fe44bfc3a36847f80a7ccb', 'department': 'Production', 'gender': 2, 'id': 9196, 'job': 'Executive Producer', 'name': 'Ted Field', 'profile_path': '/qmB7sZcgRUq7mRFBSTlSsVXh7sH.jpg'}, {'credit_id': '52fe44bfc3a36847f80a7cc5', 'department': 'Production', 'gender': 2, 'id': 18389, 'job': 'Executive Producer', 'name': 'Robert W. Cort', 'profile_path': None}, {'credit_id': '52fe44bfc3a36847f80a7cbf', 'department': 'Camera', 'gender': 2, 'id': 11371, 'job': 'Director of Photography', 'name': 'Thomas E. Ackerman', 'profile_path': '/xFDbxk53icM1ofL4iCIwB4GkUxN.jpg'}, {'credit_id': '52fe44bfc3a36847f80a7c83', 'department': 'Writing', 'gender': 2, 'id': 42356, 'job': 'Novel', 'name': 'Chris van Allsburg', 'profile_path': None}, {'credit_id': '52fe44bfc3a36847f80a7cb3', 'department': 'Production', 'gender': 2, 'id': 42357, 'job': 'Producer', 'name': 'William Teitler', 'profile_path': None}, {'credit_id': '52fe44bfc3a36847f80a7c8f', 'department': 'Writing', 'gender': 2, 'id': 56520, 'job': 'Screenplay', 'name': 'Greg Taylor', 'profile_path': None}, {'credit_id': '52fe44bfc3a36847f80a7c95', 'department': 'Writing', 'gender': 2, 'id': 56521, 'job': 'Screenplay', 'name': 'Jim Strain', 'profile_path': None}]\""
      ]
     },
     "execution_count": 44,
     "metadata": {},
     "output_type": "execute_result"
    }
   ],
   "source": [
    "mv.loc[1,\"crew\"]"
   ]
  },
  {
   "cell_type": "code",
   "execution_count": 45,
   "id": "f17fe555",
   "metadata": {},
   "outputs": [],
   "source": [
    "def get_dir(x):\n",
    "    l=[]\n",
    "    for i in ast.literal_eval(x):\n",
    "        if i[\"job\"]==\"Director\":\n",
    "            l.append(i[\"name\"])\n",
    "            break\n",
    "    return l"
   ]
  },
  {
   "cell_type": "code",
   "execution_count": 46,
   "id": "d8773bf2",
   "metadata": {},
   "outputs": [],
   "source": [
    "mv[\"crew\"]=mv[\"crew\"].apply(get_dir)"
   ]
  },
  {
   "cell_type": "code",
   "execution_count": 47,
   "id": "53f017c0",
   "metadata": {},
   "outputs": [
    {
     "data": {
      "text/plain": [
       "['Joe Johnston']"
      ]
     },
     "execution_count": 47,
     "metadata": {},
     "output_type": "execute_result"
    }
   ],
   "source": [
    "mv.loc[1,\"crew\"]"
   ]
  },
  {
   "cell_type": "code",
   "execution_count": 48,
   "id": "c86e4d99",
   "metadata": {},
   "outputs": [
    {
     "data": {
      "text/plain": [
       "\"A family wedding reignites the ancient feud between next-door neighbors and fishing buddies John and Max. Meanwhile, a sultry Italian divorcée opens a restaurant at the local bait shop, alarming the locals who worry she'll scare the fish away. But she's less interested in seafood than she is in cooking up a hot time with Max.\""
      ]
     },
     "execution_count": 48,
     "metadata": {},
     "output_type": "execute_result"
    }
   ],
   "source": [
    "mv.loc[2,\"overview\"]"
   ]
  },
  {
   "cell_type": "code",
   "execution_count": 49,
   "id": "523edfe2",
   "metadata": {},
   "outputs": [],
   "source": [
    "def get_list(x):\n",
    "    return x.split()"
   ]
  },
  {
   "cell_type": "code",
   "execution_count": 50,
   "id": "0c557133",
   "metadata": {},
   "outputs": [],
   "source": [
    "mv[\"overview\"]=mv[\"overview\"].apply(get_list)"
   ]
  },
  {
   "cell_type": "code",
   "execution_count": 51,
   "id": "14b58832",
   "metadata": {},
   "outputs": [
    {
     "data": {
      "text/plain": [
       "['A',\n",
       " 'family',\n",
       " 'wedding',\n",
       " 'reignites',\n",
       " 'the',\n",
       " 'ancient',\n",
       " 'feud',\n",
       " 'between',\n",
       " 'next-door',\n",
       " 'neighbors',\n",
       " 'and',\n",
       " 'fishing',\n",
       " 'buddies',\n",
       " 'John',\n",
       " 'and',\n",
       " 'Max.',\n",
       " 'Meanwhile,',\n",
       " 'a',\n",
       " 'sultry',\n",
       " 'Italian',\n",
       " 'divorcée',\n",
       " 'opens',\n",
       " 'a',\n",
       " 'restaurant',\n",
       " 'at',\n",
       " 'the',\n",
       " 'local',\n",
       " 'bait',\n",
       " 'shop,',\n",
       " 'alarming',\n",
       " 'the',\n",
       " 'locals',\n",
       " 'who',\n",
       " 'worry',\n",
       " \"she'll\",\n",
       " 'scare',\n",
       " 'the',\n",
       " 'fish',\n",
       " 'away.',\n",
       " 'But',\n",
       " \"she's\",\n",
       " 'less',\n",
       " 'interested',\n",
       " 'in',\n",
       " 'seafood',\n",
       " 'than',\n",
       " 'she',\n",
       " 'is',\n",
       " 'in',\n",
       " 'cooking',\n",
       " 'up',\n",
       " 'a',\n",
       " 'hot',\n",
       " 'time',\n",
       " 'with',\n",
       " 'Max.']"
      ]
     },
     "execution_count": 51,
     "metadata": {},
     "output_type": "execute_result"
    }
   ],
   "source": [
    "mv.loc[2,\"overview\"]"
   ]
  },
  {
   "cell_type": "code",
   "execution_count": 52,
   "id": "9e3d3d79",
   "metadata": {},
   "outputs": [],
   "source": [
    "mv.drop(\"release_date\",axis=1,inplace=True)"
   ]
  },
  {
   "cell_type": "code",
   "execution_count": 53,
   "id": "1db542c5",
   "metadata": {},
   "outputs": [
    {
     "data": {
      "text/html": [
       "<div>\n",
       "<style scoped>\n",
       "    .dataframe tbody tr th:only-of-type {\n",
       "        vertical-align: middle;\n",
       "    }\n",
       "\n",
       "    .dataframe tbody tr th {\n",
       "        vertical-align: top;\n",
       "    }\n",
       "\n",
       "    .dataframe thead th {\n",
       "        text-align: right;\n",
       "    }\n",
       "</style>\n",
       "<table border=\"1\" class=\"dataframe\">\n",
       "  <thead>\n",
       "    <tr style=\"text-align: right;\">\n",
       "      <th></th>\n",
       "      <th>id</th>\n",
       "      <th>imdb_id</th>\n",
       "      <th>genres</th>\n",
       "      <th>title</th>\n",
       "      <th>overview</th>\n",
       "      <th>cast</th>\n",
       "      <th>crew</th>\n",
       "      <th>keywords</th>\n",
       "      <th>release_year</th>\n",
       "    </tr>\n",
       "  </thead>\n",
       "  <tbody>\n",
       "    <tr>\n",
       "      <th>0</th>\n",
       "      <td>862</td>\n",
       "      <td>tt0114709</td>\n",
       "      <td>[Animation, Comedy, Family]</td>\n",
       "      <td>Toy Story</td>\n",
       "      <td>[Led, by, Woody,, Andy's, toys, live, happily,...</td>\n",
       "      <td>[Tom Hanks, Tim Allen, Don Rickles, Jim Varney...</td>\n",
       "      <td>[John Lasseter]</td>\n",
       "      <td>[jealousy, toy, boy, friendship, friends, riva...</td>\n",
       "      <td>1990s</td>\n",
       "    </tr>\n",
       "    <tr>\n",
       "      <th>1</th>\n",
       "      <td>8844</td>\n",
       "      <td>tt0113497</td>\n",
       "      <td>[Adventure, Fantasy, Family]</td>\n",
       "      <td>Jumanji</td>\n",
       "      <td>[When, siblings, Judy, and, Peter, discover, a...</td>\n",
       "      <td>[Robin Williams, Jonathan Hyde, Kirsten Dunst,...</td>\n",
       "      <td>[Joe Johnston]</td>\n",
       "      <td>[board game, disappearance, based on children'...</td>\n",
       "      <td>1990s</td>\n",
       "    </tr>\n",
       "    <tr>\n",
       "      <th>2</th>\n",
       "      <td>15602</td>\n",
       "      <td>tt0113228</td>\n",
       "      <td>[Romance, Comedy]</td>\n",
       "      <td>Grumpier Old Men</td>\n",
       "      <td>[A, family, wedding, reignites, the, ancient, ...</td>\n",
       "      <td>[Walter Matthau, Jack Lemmon, Ann-Margret, Sop...</td>\n",
       "      <td>[Howard Deutch]</td>\n",
       "      <td>[fishing, best friend, duringcreditsstinger, o...</td>\n",
       "      <td>1990s</td>\n",
       "    </tr>\n",
       "    <tr>\n",
       "      <th>3</th>\n",
       "      <td>31357</td>\n",
       "      <td>tt0114885</td>\n",
       "      <td>[Comedy, Drama, Romance]</td>\n",
       "      <td>Waiting to Exhale</td>\n",
       "      <td>[Cheated, on,, mistreated, and, stepped, on,, ...</td>\n",
       "      <td>[Whitney Houston, Angela Bassett, Loretta Devi...</td>\n",
       "      <td>[Forest Whitaker]</td>\n",
       "      <td>[based on novel, interracial relationship, sin...</td>\n",
       "      <td>1990s</td>\n",
       "    </tr>\n",
       "    <tr>\n",
       "      <th>4</th>\n",
       "      <td>11862</td>\n",
       "      <td>tt0113041</td>\n",
       "      <td>[Comedy]</td>\n",
       "      <td>Father of the Bride Part II</td>\n",
       "      <td>[Just, when, George, Banks, has, recovered, fr...</td>\n",
       "      <td>[Steve Martin, Diane Keaton, Martin Short, Kim...</td>\n",
       "      <td>[Charles Shyer]</td>\n",
       "      <td>[baby, midlife crisis, confidence, aging, daug...</td>\n",
       "      <td>1990s</td>\n",
       "    </tr>\n",
       "  </tbody>\n",
       "</table>\n",
       "</div>"
      ],
      "text/plain": [
       "      id    imdb_id                        genres  \\\n",
       "0    862  tt0114709   [Animation, Comedy, Family]   \n",
       "1   8844  tt0113497  [Adventure, Fantasy, Family]   \n",
       "2  15602  tt0113228             [Romance, Comedy]   \n",
       "3  31357  tt0114885      [Comedy, Drama, Romance]   \n",
       "4  11862  tt0113041                      [Comedy]   \n",
       "\n",
       "                         title  \\\n",
       "0                    Toy Story   \n",
       "1                      Jumanji   \n",
       "2             Grumpier Old Men   \n",
       "3            Waiting to Exhale   \n",
       "4  Father of the Bride Part II   \n",
       "\n",
       "                                            overview  \\\n",
       "0  [Led, by, Woody,, Andy's, toys, live, happily,...   \n",
       "1  [When, siblings, Judy, and, Peter, discover, a...   \n",
       "2  [A, family, wedding, reignites, the, ancient, ...   \n",
       "3  [Cheated, on,, mistreated, and, stepped, on,, ...   \n",
       "4  [Just, when, George, Banks, has, recovered, fr...   \n",
       "\n",
       "                                                cast               crew  \\\n",
       "0  [Tom Hanks, Tim Allen, Don Rickles, Jim Varney...    [John Lasseter]   \n",
       "1  [Robin Williams, Jonathan Hyde, Kirsten Dunst,...     [Joe Johnston]   \n",
       "2  [Walter Matthau, Jack Lemmon, Ann-Margret, Sop...    [Howard Deutch]   \n",
       "3  [Whitney Houston, Angela Bassett, Loretta Devi...  [Forest Whitaker]   \n",
       "4  [Steve Martin, Diane Keaton, Martin Short, Kim...    [Charles Shyer]   \n",
       "\n",
       "                                            keywords release_year  \n",
       "0  [jealousy, toy, boy, friendship, friends, riva...        1990s  \n",
       "1  [board game, disappearance, based on children'...        1990s  \n",
       "2  [fishing, best friend, duringcreditsstinger, o...        1990s  \n",
       "3  [based on novel, interracial relationship, sin...        1990s  \n",
       "4  [baby, midlife crisis, confidence, aging, daug...        1990s  "
      ]
     },
     "execution_count": 53,
     "metadata": {},
     "output_type": "execute_result"
    }
   ],
   "source": [
    "mv.head()"
   ]
  },
  {
   "cell_type": "code",
   "execution_count": 54,
   "id": "11757cfd",
   "metadata": {},
   "outputs": [],
   "source": [
    "mv[\"overview\"]=mv[\"overview\"].apply(lambda x:[i.replace(\" \",\"\") for i in x])"
   ]
  },
  {
   "cell_type": "code",
   "execution_count": 55,
   "id": "4fa75b71",
   "metadata": {},
   "outputs": [],
   "source": [
    "mv[\"cast\"]=mv[\"cast\"].apply(lambda x:[i.replace(\" \",\"\") for i in x])"
   ]
  },
  {
   "cell_type": "code",
   "execution_count": 56,
   "id": "c1a52170",
   "metadata": {},
   "outputs": [
    {
     "data": {
      "text/plain": [
       "['TomHanks', 'TimAllen', 'DonRickles', 'JimVarney', 'WallaceShawn']"
      ]
     },
     "execution_count": 56,
     "metadata": {},
     "output_type": "execute_result"
    }
   ],
   "source": [
    "mv.loc[0,\"cast\"]"
   ]
  },
  {
   "cell_type": "code",
   "execution_count": 57,
   "id": "af34fb01",
   "metadata": {},
   "outputs": [],
   "source": [
    "mv[\"crew\"]=mv[\"crew\"].apply(lambda x:[i.replace(\" \",\"\") for i in x])"
   ]
  },
  {
   "cell_type": "code",
   "execution_count": 58,
   "id": "e5a6f3a5",
   "metadata": {},
   "outputs": [],
   "source": [
    "mv[\"keywords\"]=mv[\"keywords\"].apply(lambda x:[i.replace(\" \",\"\") for i in x])"
   ]
  },
  {
   "cell_type": "code",
   "execution_count": 59,
   "id": "291b925c",
   "metadata": {},
   "outputs": [],
   "source": [
    "mv[\"genres\"]=mv[\"genres\"].apply(lambda x:[i.replace(\" \",\"\") for i in x])"
   ]
  },
  {
   "cell_type": "code",
   "execution_count": 60,
   "id": "f58f76d8",
   "metadata": {},
   "outputs": [
    {
     "data": {
      "text/html": [
       "<div>\n",
       "<style scoped>\n",
       "    .dataframe tbody tr th:only-of-type {\n",
       "        vertical-align: middle;\n",
       "    }\n",
       "\n",
       "    .dataframe tbody tr th {\n",
       "        vertical-align: top;\n",
       "    }\n",
       "\n",
       "    .dataframe thead th {\n",
       "        text-align: right;\n",
       "    }\n",
       "</style>\n",
       "<table border=\"1\" class=\"dataframe\">\n",
       "  <thead>\n",
       "    <tr style=\"text-align: right;\">\n",
       "      <th></th>\n",
       "      <th>id</th>\n",
       "      <th>imdb_id</th>\n",
       "      <th>genres</th>\n",
       "      <th>title</th>\n",
       "      <th>overview</th>\n",
       "      <th>cast</th>\n",
       "      <th>crew</th>\n",
       "      <th>keywords</th>\n",
       "      <th>release_year</th>\n",
       "    </tr>\n",
       "  </thead>\n",
       "  <tbody>\n",
       "    <tr>\n",
       "      <th>0</th>\n",
       "      <td>862</td>\n",
       "      <td>tt0114709</td>\n",
       "      <td>[Animation, Comedy, Family]</td>\n",
       "      <td>Toy Story</td>\n",
       "      <td>[Led, by, Woody,, Andy's, toys, live, happily,...</td>\n",
       "      <td>[TomHanks, TimAllen, DonRickles, JimVarney, Wa...</td>\n",
       "      <td>[JohnLasseter]</td>\n",
       "      <td>[jealousy, toy, boy, friendship, friends, riva...</td>\n",
       "      <td>1990s</td>\n",
       "    </tr>\n",
       "    <tr>\n",
       "      <th>1</th>\n",
       "      <td>8844</td>\n",
       "      <td>tt0113497</td>\n",
       "      <td>[Adventure, Fantasy, Family]</td>\n",
       "      <td>Jumanji</td>\n",
       "      <td>[When, siblings, Judy, and, Peter, discover, a...</td>\n",
       "      <td>[RobinWilliams, JonathanHyde, KirstenDunst, Br...</td>\n",
       "      <td>[JoeJohnston]</td>\n",
       "      <td>[boardgame, disappearance, basedonchildren'sbo...</td>\n",
       "      <td>1990s</td>\n",
       "    </tr>\n",
       "    <tr>\n",
       "      <th>2</th>\n",
       "      <td>15602</td>\n",
       "      <td>tt0113228</td>\n",
       "      <td>[Romance, Comedy]</td>\n",
       "      <td>Grumpier Old Men</td>\n",
       "      <td>[A, family, wedding, reignites, the, ancient, ...</td>\n",
       "      <td>[WalterMatthau, JackLemmon, Ann-Margret, Sophi...</td>\n",
       "      <td>[HowardDeutch]</td>\n",
       "      <td>[fishing, bestfriend, duringcreditsstinger, ol...</td>\n",
       "      <td>1990s</td>\n",
       "    </tr>\n",
       "    <tr>\n",
       "      <th>3</th>\n",
       "      <td>31357</td>\n",
       "      <td>tt0114885</td>\n",
       "      <td>[Comedy, Drama, Romance]</td>\n",
       "      <td>Waiting to Exhale</td>\n",
       "      <td>[Cheated, on,, mistreated, and, stepped, on,, ...</td>\n",
       "      <td>[WhitneyHouston, AngelaBassett, LorettaDevine,...</td>\n",
       "      <td>[ForestWhitaker]</td>\n",
       "      <td>[basedonnovel, interracialrelationship, single...</td>\n",
       "      <td>1990s</td>\n",
       "    </tr>\n",
       "    <tr>\n",
       "      <th>4</th>\n",
       "      <td>11862</td>\n",
       "      <td>tt0113041</td>\n",
       "      <td>[Comedy]</td>\n",
       "      <td>Father of the Bride Part II</td>\n",
       "      <td>[Just, when, George, Banks, has, recovered, fr...</td>\n",
       "      <td>[SteveMartin, DianeKeaton, MartinShort, Kimber...</td>\n",
       "      <td>[CharlesShyer]</td>\n",
       "      <td>[baby, midlifecrisis, confidence, aging, daugh...</td>\n",
       "      <td>1990s</td>\n",
       "    </tr>\n",
       "  </tbody>\n",
       "</table>\n",
       "</div>"
      ],
      "text/plain": [
       "      id    imdb_id                        genres  \\\n",
       "0    862  tt0114709   [Animation, Comedy, Family]   \n",
       "1   8844  tt0113497  [Adventure, Fantasy, Family]   \n",
       "2  15602  tt0113228             [Romance, Comedy]   \n",
       "3  31357  tt0114885      [Comedy, Drama, Romance]   \n",
       "4  11862  tt0113041                      [Comedy]   \n",
       "\n",
       "                         title  \\\n",
       "0                    Toy Story   \n",
       "1                      Jumanji   \n",
       "2             Grumpier Old Men   \n",
       "3            Waiting to Exhale   \n",
       "4  Father of the Bride Part II   \n",
       "\n",
       "                                            overview  \\\n",
       "0  [Led, by, Woody,, Andy's, toys, live, happily,...   \n",
       "1  [When, siblings, Judy, and, Peter, discover, a...   \n",
       "2  [A, family, wedding, reignites, the, ancient, ...   \n",
       "3  [Cheated, on,, mistreated, and, stepped, on,, ...   \n",
       "4  [Just, when, George, Banks, has, recovered, fr...   \n",
       "\n",
       "                                                cast              crew  \\\n",
       "0  [TomHanks, TimAllen, DonRickles, JimVarney, Wa...    [JohnLasseter]   \n",
       "1  [RobinWilliams, JonathanHyde, KirstenDunst, Br...     [JoeJohnston]   \n",
       "2  [WalterMatthau, JackLemmon, Ann-Margret, Sophi...    [HowardDeutch]   \n",
       "3  [WhitneyHouston, AngelaBassett, LorettaDevine,...  [ForestWhitaker]   \n",
       "4  [SteveMartin, DianeKeaton, MartinShort, Kimber...    [CharlesShyer]   \n",
       "\n",
       "                                            keywords release_year  \n",
       "0  [jealousy, toy, boy, friendship, friends, riva...        1990s  \n",
       "1  [boardgame, disappearance, basedonchildren'sbo...        1990s  \n",
       "2  [fishing, bestfriend, duringcreditsstinger, ol...        1990s  \n",
       "3  [basedonnovel, interracialrelationship, single...        1990s  \n",
       "4  [baby, midlifecrisis, confidence, aging, daugh...        1990s  "
      ]
     },
     "execution_count": 60,
     "metadata": {},
     "output_type": "execute_result"
    }
   ],
   "source": [
    "mv.head()"
   ]
  },
  {
   "cell_type": "code",
   "execution_count": 61,
   "id": "a01f0154",
   "metadata": {},
   "outputs": [],
   "source": [
    "#due to limitations of memory we'll consider movies from 2000s\n",
    "mv=mv[(mv[\"release_year\"]==\"2000s\") + (mv[\"release_year\"]==\"2010s\") + (mv[\"release_year\"]==\"2020s\")]"
   ]
  },
  {
   "cell_type": "code",
   "execution_count": 62,
   "id": "9b826d6f",
   "metadata": {},
   "outputs": [
    {
     "data": {
      "text/plain": [
       "(14469, 9)"
      ]
     },
     "execution_count": 62,
     "metadata": {},
     "output_type": "execute_result"
    }
   ],
   "source": [
    "mv.shape"
   ]
  },
  {
   "cell_type": "code",
   "execution_count": 63,
   "id": "a3a941f7",
   "metadata": {},
   "outputs": [],
   "source": [
    "def ret_list(x):\n",
    "    return [x]"
   ]
  },
  {
   "cell_type": "code",
   "execution_count": 64,
   "id": "eff1e912",
   "metadata": {},
   "outputs": [
    {
     "data": {
      "text/plain": [
       "['1990s']"
      ]
     },
     "execution_count": 64,
     "metadata": {},
     "output_type": "execute_result"
    }
   ],
   "source": [
    "ret_list(\"1990s\")"
   ]
  },
  {
   "cell_type": "code",
   "execution_count": 65,
   "id": "0b7c5e75",
   "metadata": {},
   "outputs": [],
   "source": [
    "mv[\"release_year\"]=mv[\"release_year\"].apply(ret_list)"
   ]
  },
  {
   "cell_type": "code",
   "execution_count": 66,
   "id": "1fbd6588",
   "metadata": {},
   "outputs": [],
   "source": [
    "mv[\"tags\"]=mv[\"genres\"]+mv['overview']+mv[\"cast\"]+mv[\"crew\"]+mv[\"keywords\"]+mv['release_year']"
   ]
  },
  {
   "cell_type": "code",
   "execution_count": 67,
   "id": "58989f20",
   "metadata": {},
   "outputs": [
    {
     "data": {
      "text/html": [
       "<div>\n",
       "<style scoped>\n",
       "    .dataframe tbody tr th:only-of-type {\n",
       "        vertical-align: middle;\n",
       "    }\n",
       "\n",
       "    .dataframe tbody tr th {\n",
       "        vertical-align: top;\n",
       "    }\n",
       "\n",
       "    .dataframe thead th {\n",
       "        text-align: right;\n",
       "    }\n",
       "</style>\n",
       "<table border=\"1\" class=\"dataframe\">\n",
       "  <thead>\n",
       "    <tr style=\"text-align: right;\">\n",
       "      <th></th>\n",
       "      <th>id</th>\n",
       "      <th>imdb_id</th>\n",
       "      <th>genres</th>\n",
       "      <th>title</th>\n",
       "      <th>overview</th>\n",
       "      <th>cast</th>\n",
       "      <th>crew</th>\n",
       "      <th>keywords</th>\n",
       "      <th>release_year</th>\n",
       "      <th>tags</th>\n",
       "    </tr>\n",
       "  </thead>\n",
       "  <tbody>\n",
       "    <tr>\n",
       "      <th>2134</th>\n",
       "      <td>143750</td>\n",
       "      <td>tt2140519</td>\n",
       "      <td>[Drama]</td>\n",
       "      <td>The Farmer's Wife</td>\n",
       "      <td>[As, her, surroundings, are, invaded, by, outs...</td>\n",
       "      <td>[JamesCartwright, GeraldineJames, AlexKelly, M...</td>\n",
       "      <td>[FrancisLee]</td>\n",
       "      <td>[short]</td>\n",
       "      <td>[2010s]</td>\n",
       "      <td>[Drama, As, her, surroundings, are, invaded, b...</td>\n",
       "    </tr>\n",
       "    <tr>\n",
       "      <th>2584</th>\n",
       "      <td>84198</td>\n",
       "      <td>tt1736049</td>\n",
       "      <td>[Documentary]</td>\n",
       "      <td>A Place at the Table</td>\n",
       "      <td>[Using, personal, stories,, this, powerful, do...</td>\n",
       "      <td>[JeffBridges, TomColicchio, MarianaChilton, Ke...</td>\n",
       "      <td>[KristiJacobson]</td>\n",
       "      <td>[womandirector]</td>\n",
       "      <td>[2010s]</td>\n",
       "      <td>[Documentary, Using, personal, stories,, this,...</td>\n",
       "    </tr>\n",
       "    <tr>\n",
       "      <th>2681</th>\n",
       "      <td>19457</td>\n",
       "      <td>tt0138946</td>\n",
       "      <td>[Drama, Action, Thriller, Crime]</td>\n",
       "      <td>The Yards</td>\n",
       "      <td>[In, the, rail, yards, of, Queens,, contractor...</td>\n",
       "      <td>[MarkWahlberg, JoaquinPhoenix, CharlizeTheron,...</td>\n",
       "      <td>[JamesGray]</td>\n",
       "      <td>[corruption, subway, infiltration, criminal]</td>\n",
       "      <td>[2000s]</td>\n",
       "      <td>[Drama, Action, Thriller, Crime, In, the, rail...</td>\n",
       "    </tr>\n",
       "    <tr>\n",
       "      <th>3087</th>\n",
       "      <td>10471</td>\n",
       "      <td>tt0195945</td>\n",
       "      <td>[Comedy]</td>\n",
       "      <td>Next Friday</td>\n",
       "      <td>[Ice, Cube, returns, as, Craig, Jones,, a, str...</td>\n",
       "      <td>[IceCube, MikeEpps, JustinPierce, JohnWithersp...</td>\n",
       "      <td>[SteveCarr]</td>\n",
       "      <td>[prison, repayment, gangwar, boygang, revenge,...</td>\n",
       "      <td>[2000s]</td>\n",
       "      <td>[Comedy, Ice, Cube, returns, as, Craig, Jones,...</td>\n",
       "    </tr>\n",
       "    <tr>\n",
       "      <th>3099</th>\n",
       "      <td>17908</td>\n",
       "      <td>tt0156812</td>\n",
       "      <td>[Comedy, Drama, Family]</td>\n",
       "      <td>My Dog Skip</td>\n",
       "      <td>[A, shy, boy, is, unable, to, make, friends, i...</td>\n",
       "      <td>[FrankieMuniz, DianeLane, KevinBacon, LukeWils...</td>\n",
       "      <td>[JayRussell]</td>\n",
       "      <td>[mississippi, childhoodmemory, dog]</td>\n",
       "      <td>[2000s]</td>\n",
       "      <td>[Comedy, Drama, Family, A, shy, boy, is, unabl...</td>\n",
       "    </tr>\n",
       "  </tbody>\n",
       "</table>\n",
       "</div>"
      ],
      "text/plain": [
       "          id    imdb_id                            genres  \\\n",
       "2134  143750  tt2140519                           [Drama]   \n",
       "2584   84198  tt1736049                     [Documentary]   \n",
       "2681   19457  tt0138946  [Drama, Action, Thriller, Crime]   \n",
       "3087   10471  tt0195945                          [Comedy]   \n",
       "3099   17908  tt0156812           [Comedy, Drama, Family]   \n",
       "\n",
       "                     title                                           overview  \\\n",
       "2134     The Farmer's Wife  [As, her, surroundings, are, invaded, by, outs...   \n",
       "2584  A Place at the Table  [Using, personal, stories,, this, powerful, do...   \n",
       "2681             The Yards  [In, the, rail, yards, of, Queens,, contractor...   \n",
       "3087           Next Friday  [Ice, Cube, returns, as, Craig, Jones,, a, str...   \n",
       "3099           My Dog Skip  [A, shy, boy, is, unable, to, make, friends, i...   \n",
       "\n",
       "                                                   cast              crew  \\\n",
       "2134  [JamesCartwright, GeraldineJames, AlexKelly, M...      [FrancisLee]   \n",
       "2584  [JeffBridges, TomColicchio, MarianaChilton, Ke...  [KristiJacobson]   \n",
       "2681  [MarkWahlberg, JoaquinPhoenix, CharlizeTheron,...       [JamesGray]   \n",
       "3087  [IceCube, MikeEpps, JustinPierce, JohnWithersp...       [SteveCarr]   \n",
       "3099  [FrankieMuniz, DianeLane, KevinBacon, LukeWils...      [JayRussell]   \n",
       "\n",
       "                                               keywords release_year  \\\n",
       "2134                                            [short]      [2010s]   \n",
       "2584                                    [womandirector]      [2010s]   \n",
       "2681       [corruption, subway, infiltration, criminal]      [2000s]   \n",
       "3087  [prison, repayment, gangwar, boygang, revenge,...      [2000s]   \n",
       "3099                [mississippi, childhoodmemory, dog]      [2000s]   \n",
       "\n",
       "                                                   tags  \n",
       "2134  [Drama, As, her, surroundings, are, invaded, b...  \n",
       "2584  [Documentary, Using, personal, stories,, this,...  \n",
       "2681  [Drama, Action, Thriller, Crime, In, the, rail...  \n",
       "3087  [Comedy, Ice, Cube, returns, as, Craig, Jones,...  \n",
       "3099  [Comedy, Drama, Family, A, shy, boy, is, unabl...  "
      ]
     },
     "execution_count": 67,
     "metadata": {},
     "output_type": "execute_result"
    }
   ],
   "source": [
    "mv.head()"
   ]
  },
  {
   "cell_type": "code",
   "execution_count": 68,
   "id": "c8df39d7",
   "metadata": {},
   "outputs": [],
   "source": [
    "newmv=mv.drop(columns=[\"genres\",\"overview\",\"cast\",\"crew\",\"keywords\",\"release_year\"])"
   ]
  },
  {
   "cell_type": "code",
   "execution_count": 69,
   "id": "21996cc7",
   "metadata": {},
   "outputs": [
    {
     "data": {
      "text/html": [
       "<div>\n",
       "<style scoped>\n",
       "    .dataframe tbody tr th:only-of-type {\n",
       "        vertical-align: middle;\n",
       "    }\n",
       "\n",
       "    .dataframe tbody tr th {\n",
       "        vertical-align: top;\n",
       "    }\n",
       "\n",
       "    .dataframe thead th {\n",
       "        text-align: right;\n",
       "    }\n",
       "</style>\n",
       "<table border=\"1\" class=\"dataframe\">\n",
       "  <thead>\n",
       "    <tr style=\"text-align: right;\">\n",
       "      <th></th>\n",
       "      <th>id</th>\n",
       "      <th>imdb_id</th>\n",
       "      <th>title</th>\n",
       "      <th>tags</th>\n",
       "    </tr>\n",
       "  </thead>\n",
       "  <tbody>\n",
       "    <tr>\n",
       "      <th>6876</th>\n",
       "      <td>9562</td>\n",
       "      <td>tt0300556</td>\n",
       "      <td>Timeline</td>\n",
       "      <td>[Action, Adventure, ScienceFiction, A, group, ...</td>\n",
       "    </tr>\n",
       "    <tr>\n",
       "      <th>37923</th>\n",
       "      <td>225760</td>\n",
       "      <td>tt0392364</td>\n",
       "      <td>Lulu</td>\n",
       "      <td>[Drama, Romance, Leon, Mortier,, a, wealthy, p...</td>\n",
       "    </tr>\n",
       "    <tr>\n",
       "      <th>20339</th>\n",
       "      <td>86304</td>\n",
       "      <td>tt1836212</td>\n",
       "      <td>All Superheroes Must Die</td>\n",
       "      <td>[ScienceFiction, Thriller, Masked, vigilantes,...</td>\n",
       "    </tr>\n",
       "    <tr>\n",
       "      <th>33002</th>\n",
       "      <td>324308</td>\n",
       "      <td>tt4425064</td>\n",
       "      <td>Steve Jobs: The Man in the Machine</td>\n",
       "      <td>[Documentary, When, Steve, Jobs, died, the, wo...</td>\n",
       "    </tr>\n",
       "    <tr>\n",
       "      <th>17546</th>\n",
       "      <td>52605</td>\n",
       "      <td>tt1712573</td>\n",
       "      <td>Strapped</td>\n",
       "      <td>[Drama, A, routine, trick, propels, a, tall,, ...</td>\n",
       "    </tr>\n",
       "  </tbody>\n",
       "</table>\n",
       "</div>"
      ],
      "text/plain": [
       "           id    imdb_id                               title  \\\n",
       "6876     9562  tt0300556                            Timeline   \n",
       "37923  225760  tt0392364                                Lulu   \n",
       "20339   86304  tt1836212            All Superheroes Must Die   \n",
       "33002  324308  tt4425064  Steve Jobs: The Man in the Machine   \n",
       "17546   52605  tt1712573                            Strapped   \n",
       "\n",
       "                                                    tags  \n",
       "6876   [Action, Adventure, ScienceFiction, A, group, ...  \n",
       "37923  [Drama, Romance, Leon, Mortier,, a, wealthy, p...  \n",
       "20339  [ScienceFiction, Thriller, Masked, vigilantes,...  \n",
       "33002  [Documentary, When, Steve, Jobs, died, the, wo...  \n",
       "17546  [Drama, A, routine, trick, propels, a, tall,, ...  "
      ]
     },
     "execution_count": 69,
     "metadata": {},
     "output_type": "execute_result"
    }
   ],
   "source": [
    "newmv.sample(5)"
   ]
  },
  {
   "cell_type": "code",
   "execution_count": 70,
   "id": "28223fcb",
   "metadata": {},
   "outputs": [],
   "source": [
    "\n",
    "def tostr(txt):\n",
    "    l=' '.join([str(elem) for elem in txt])\n",
    "    return l"
   ]
  },
  {
   "cell_type": "code",
   "execution_count": 71,
   "id": "929e2169",
   "metadata": {},
   "outputs": [
    {
     "data": {
      "text/plain": [
       "\"A family wedding reignites the ancient feud between next-door neighbors and fishing buddies John and Max. Meanwhile, a sultry Italian divorcée opens a restaurant at the local bait shop, alarming the locals who worry she'll scare the fish away. But she's less interested in seafood than she is in cooking up a hot time with Max.\""
      ]
     },
     "execution_count": 71,
     "metadata": {},
     "output_type": "execute_result"
    }
   ],
   "source": [
    "tostr(['A',\n",
    " 'family',\n",
    " 'wedding',\n",
    " 'reignites',\n",
    " 'the',\n",
    " 'ancient',\n",
    " 'feud',\n",
    " 'between',\n",
    " 'next-door',\n",
    " 'neighbors',\n",
    " 'and',\n",
    " 'fishing',\n",
    " 'buddies',\n",
    " 'John',\n",
    " 'and',\n",
    " 'Max.',\n",
    " 'Meanwhile,',\n",
    " 'a',\n",
    " 'sultry',\n",
    " 'Italian',\n",
    " 'divorcée',\n",
    " 'opens',\n",
    " 'a',\n",
    " 'restaurant',\n",
    " 'at',\n",
    " 'the',\n",
    " 'local',\n",
    " 'bait',\n",
    " 'shop,',\n",
    " 'alarming',\n",
    " 'the',\n",
    " 'locals',\n",
    " 'who',\n",
    " 'worry',\n",
    " \"she'll\",\n",
    " 'scare',\n",
    " 'the',\n",
    " 'fish',\n",
    " 'away.',\n",
    " 'But',\n",
    " \"she's\",\n",
    " 'less',\n",
    " 'interested',\n",
    " 'in',\n",
    " 'seafood',\n",
    " 'than',\n",
    " 'she',\n",
    " 'is',\n",
    " 'in',\n",
    " 'cooking',\n",
    " 'up',\n",
    " 'a',\n",
    " 'hot',\n",
    " 'time',\n",
    " 'with',\n",
    " 'Max.'])"
   ]
  },
  {
   "cell_type": "code",
   "execution_count": 72,
   "id": "d526bda1",
   "metadata": {},
   "outputs": [],
   "source": [
    "newmv[\"tags\"]=newmv[\"tags\"].apply(tostr)"
   ]
  },
  {
   "cell_type": "code",
   "execution_count": 73,
   "id": "da01cbe2",
   "metadata": {},
   "outputs": [
    {
     "data": {
      "text/html": [
       "<div>\n",
       "<style scoped>\n",
       "    .dataframe tbody tr th:only-of-type {\n",
       "        vertical-align: middle;\n",
       "    }\n",
       "\n",
       "    .dataframe tbody tr th {\n",
       "        vertical-align: top;\n",
       "    }\n",
       "\n",
       "    .dataframe thead th {\n",
       "        text-align: right;\n",
       "    }\n",
       "</style>\n",
       "<table border=\"1\" class=\"dataframe\">\n",
       "  <thead>\n",
       "    <tr style=\"text-align: right;\">\n",
       "      <th></th>\n",
       "      <th>id</th>\n",
       "      <th>imdb_id</th>\n",
       "      <th>title</th>\n",
       "      <th>tags</th>\n",
       "    </tr>\n",
       "  </thead>\n",
       "  <tbody>\n",
       "    <tr>\n",
       "      <th>22809</th>\n",
       "      <td>126319</td>\n",
       "      <td>tt1816518</td>\n",
       "      <td>Ernest &amp; Celestine</td>\n",
       "      <td>Animation Comedy Drama Family Celestine is a l...</td>\n",
       "    </tr>\n",
       "    <tr>\n",
       "      <th>6609</th>\n",
       "      <td>21413</td>\n",
       "      <td>tt0357470</td>\n",
       "      <td>The Battle of Shaker Heights</td>\n",
       "      <td>Comedy Drama Romance A quirky teen with a penc...</td>\n",
       "    </tr>\n",
       "    <tr>\n",
       "      <th>5263</th>\n",
       "      <td>557</td>\n",
       "      <td>tt0145487</td>\n",
       "      <td>Spider-Man</td>\n",
       "      <td>Fantasy Action After being bitten by a genetic...</td>\n",
       "    </tr>\n",
       "    <tr>\n",
       "      <th>17532</th>\n",
       "      <td>22907</td>\n",
       "      <td>tt1135084</td>\n",
       "      <td>Takers</td>\n",
       "      <td>Action Crime Drama Thriller A seasoned team of...</td>\n",
       "    </tr>\n",
       "    <tr>\n",
       "      <th>40964</th>\n",
       "      <td>397520</td>\n",
       "      <td>tt4820224</td>\n",
       "      <td>Anne of Green Gables</td>\n",
       "      <td>Drama Family TVMovie A retelling of L.M. Montg...</td>\n",
       "    </tr>\n",
       "  </tbody>\n",
       "</table>\n",
       "</div>"
      ],
      "text/plain": [
       "           id    imdb_id                         title  \\\n",
       "22809  126319  tt1816518            Ernest & Celestine   \n",
       "6609    21413  tt0357470  The Battle of Shaker Heights   \n",
       "5263      557  tt0145487                    Spider-Man   \n",
       "17532   22907  tt1135084                        Takers   \n",
       "40964  397520  tt4820224          Anne of Green Gables   \n",
       "\n",
       "                                                    tags  \n",
       "22809  Animation Comedy Drama Family Celestine is a l...  \n",
       "6609   Comedy Drama Romance A quirky teen with a penc...  \n",
       "5263   Fantasy Action After being bitten by a genetic...  \n",
       "17532  Action Crime Drama Thriller A seasoned team of...  \n",
       "40964  Drama Family TVMovie A retelling of L.M. Montg...  "
      ]
     },
     "execution_count": 73,
     "metadata": {},
     "output_type": "execute_result"
    }
   ],
   "source": [
    "newmv.sample(5)"
   ]
  },
  {
   "cell_type": "code",
   "execution_count": 74,
   "id": "929d996f",
   "metadata": {},
   "outputs": [],
   "source": [
    "newmv[\"tags\"]=newmv[\"tags\"].apply(lambda x:x.lower())"
   ]
  },
  {
   "cell_type": "code",
   "execution_count": 75,
   "id": "35a2f607",
   "metadata": {},
   "outputs": [
    {
     "data": {
      "text/html": [
       "<div>\n",
       "<style scoped>\n",
       "    .dataframe tbody tr th:only-of-type {\n",
       "        vertical-align: middle;\n",
       "    }\n",
       "\n",
       "    .dataframe tbody tr th {\n",
       "        vertical-align: top;\n",
       "    }\n",
       "\n",
       "    .dataframe thead th {\n",
       "        text-align: right;\n",
       "    }\n",
       "</style>\n",
       "<table border=\"1\" class=\"dataframe\">\n",
       "  <thead>\n",
       "    <tr style=\"text-align: right;\">\n",
       "      <th></th>\n",
       "      <th>id</th>\n",
       "      <th>imdb_id</th>\n",
       "      <th>title</th>\n",
       "      <th>tags</th>\n",
       "    </tr>\n",
       "  </thead>\n",
       "  <tbody>\n",
       "    <tr>\n",
       "      <th>2134</th>\n",
       "      <td>143750</td>\n",
       "      <td>tt2140519</td>\n",
       "      <td>The Farmer's Wife</td>\n",
       "      <td>drama as her surroundings are invaded by outsi...</td>\n",
       "    </tr>\n",
       "    <tr>\n",
       "      <th>2584</th>\n",
       "      <td>84198</td>\n",
       "      <td>tt1736049</td>\n",
       "      <td>A Place at the Table</td>\n",
       "      <td>documentary using personal stories, this power...</td>\n",
       "    </tr>\n",
       "    <tr>\n",
       "      <th>2681</th>\n",
       "      <td>19457</td>\n",
       "      <td>tt0138946</td>\n",
       "      <td>The Yards</td>\n",
       "      <td>drama action thriller crime in the rail yards ...</td>\n",
       "    </tr>\n",
       "    <tr>\n",
       "      <th>3087</th>\n",
       "      <td>10471</td>\n",
       "      <td>tt0195945</td>\n",
       "      <td>Next Friday</td>\n",
       "      <td>comedy ice cube returns as craig jones, a stre...</td>\n",
       "    </tr>\n",
       "    <tr>\n",
       "      <th>3099</th>\n",
       "      <td>17908</td>\n",
       "      <td>tt0156812</td>\n",
       "      <td>My Dog Skip</td>\n",
       "      <td>comedy drama family a shy boy is unable to mak...</td>\n",
       "    </tr>\n",
       "  </tbody>\n",
       "</table>\n",
       "</div>"
      ],
      "text/plain": [
       "          id    imdb_id                 title  \\\n",
       "2134  143750  tt2140519     The Farmer's Wife   \n",
       "2584   84198  tt1736049  A Place at the Table   \n",
       "2681   19457  tt0138946             The Yards   \n",
       "3087   10471  tt0195945           Next Friday   \n",
       "3099   17908  tt0156812           My Dog Skip   \n",
       "\n",
       "                                                   tags  \n",
       "2134  drama as her surroundings are invaded by outsi...  \n",
       "2584  documentary using personal stories, this power...  \n",
       "2681  drama action thriller crime in the rail yards ...  \n",
       "3087  comedy ice cube returns as craig jones, a stre...  \n",
       "3099  comedy drama family a shy boy is unable to mak...  "
      ]
     },
     "execution_count": 75,
     "metadata": {},
     "output_type": "execute_result"
    }
   ],
   "source": [
    "newmv.head(5)"
   ]
  },
  {
   "cell_type": "code",
   "execution_count": 76,
   "id": "3f5cf7c2",
   "metadata": {},
   "outputs": [],
   "source": [
    "newmv.reset_index(inplace=True)"
   ]
  },
  {
   "cell_type": "code",
   "execution_count": 77,
   "id": "f51542c4",
   "metadata": {},
   "outputs": [],
   "source": [
    "# to avoid repeated similar words in bag of words we can use stemming,which combines similar words to rood word.\n",
    "import nltk"
   ]
  },
  {
   "cell_type": "code",
   "execution_count": 78,
   "id": "a4ada685",
   "metadata": {},
   "outputs": [],
   "source": [
    "from nltk.stem.porter import PorterStemmer\n",
    "ps=PorterStemmer()\n"
   ]
  },
  {
   "cell_type": "code",
   "execution_count": 79,
   "id": "cf6f0ba5",
   "metadata": {},
   "outputs": [],
   "source": [
    "def root_word(x):\n",
    "    l=[]\n",
    "    for i in x.split():\n",
    "        l.append(ps.stem(i))\n",
    "    return \" \".join(l)"
   ]
  },
  {
   "cell_type": "code",
   "execution_count": 80,
   "id": "edf0832d",
   "metadata": {},
   "outputs": [
    {
     "data": {
      "text/plain": [
       "\"a famili wed reignit the ancient feud between next-door neighbor and fish buddi john and max. meanwhile, a sultri italian divorcé open a restaur at the local bait shop, alarm the local who worri she'll scare the fish away. but she' less interest in seafood than she is in cook up a hot time with max.\""
      ]
     },
     "execution_count": 80,
     "metadata": {},
     "output_type": "execute_result"
    }
   ],
   "source": [
    "root_word(\"A family wedding reignites the ancient feud between next-door neighbors and fishing buddies John and Max. Meanwhile, a sultry Italian divorcée opens a restaurant at the local bait shop, alarming the locals who worry she'll scare the fish away. But she's less interested in seafood than she is in cooking up a hot time with Max.\")"
   ]
  },
  {
   "cell_type": "code",
   "execution_count": 81,
   "id": "5cf1a47d",
   "metadata": {},
   "outputs": [],
   "source": [
    "newmv[\"tags\"]=newmv[\"tags\"].apply(root_word)"
   ]
  },
  {
   "cell_type": "code",
   "execution_count": 82,
   "id": "41c94f77",
   "metadata": {},
   "outputs": [
    {
     "data": {
      "text/plain": [
       "\"comedi romanc writer alex sheldon (luke wilson) must finish hi novel within a month. if he doesn't, he won't get paid. and, if that happens, angri mafia type to whom he owe money will come look for him. in order to expedit things, alex hire typist emma dinsmor (kate hudson) and begin dictat hi novel. the book is about a doom love affair between a charact similar to alex and a charact name polina delacroix (sophi marceau). but, as alex fall for emma, hi work take a differ turn. lukewilson katehudson sophiemarceau davidpaym paulwilson robrein gambl sex casino basedonnovel vandal lie kiss love disappear writer death fortun 2000\""
      ]
     },
     "execution_count": 82,
     "metadata": {},
     "output_type": "execute_result"
    }
   ],
   "source": [
    "newmv.iloc[862].tags"
   ]
  },
  {
   "cell_type": "markdown",
   "id": "6d89d3b2",
   "metadata": {},
   "source": [
    "# Model Building"
   ]
  },
  {
   "cell_type": "code",
   "execution_count": 83,
   "id": "c3e2eeea",
   "metadata": {},
   "outputs": [],
   "source": [
    "from sklearn.feature_extraction.text import CountVectorizer\n",
    "cv=CountVectorizer(max_features=2000,stop_words=\"english\")"
   ]
  },
  {
   "cell_type": "code",
   "execution_count": 84,
   "id": "6de5e637",
   "metadata": {},
   "outputs": [],
   "source": [
    "vec=cv.fit_transform(newmv[\"tags\"]).toarray()"
   ]
  },
  {
   "cell_type": "code",
   "execution_count": 85,
   "id": "dffd81c2",
   "metadata": {},
   "outputs": [
    {
     "data": {
      "text/plain": [
       "array([0, 0, 0, ..., 0, 0, 0], dtype=int64)"
      ]
     },
     "execution_count": 85,
     "metadata": {},
     "output_type": "execute_result"
    }
   ],
   "source": [
    "vec[1]"
   ]
  },
  {
   "cell_type": "code",
   "execution_count": 86,
   "id": "4f659e8b",
   "metadata": {},
   "outputs": [
    {
     "data": {
      "text/plain": [
       "2000"
      ]
     },
     "execution_count": 86,
     "metadata": {},
     "output_type": "execute_result"
    }
   ],
   "source": [
    "len(cv.get_feature_names())"
   ]
  },
  {
   "cell_type": "code",
   "execution_count": 87,
   "id": "d11b760c",
   "metadata": {},
   "outputs": [
    {
     "data": {
      "text/plain": [
       "(14469, 2000)"
      ]
     },
     "execution_count": 87,
     "metadata": {},
     "output_type": "execute_result"
    }
   ],
   "source": [
    "vec.shape"
   ]
  },
  {
   "cell_type": "code",
   "execution_count": 88,
   "id": "d7e42af7",
   "metadata": {},
   "outputs": [],
   "source": [
    "from sklearn.metrics.pairwise import cosine_similarity"
   ]
  },
  {
   "cell_type": "code",
   "execution_count": 89,
   "id": "ceaaddfa",
   "metadata": {},
   "outputs": [],
   "source": [
    "sim=cosine_similarity(vec)"
   ]
  },
  {
   "cell_type": "code",
   "execution_count": 90,
   "id": "3e55259e",
   "metadata": {},
   "outputs": [
    {
     "data": {
      "text/plain": [
       "4033"
      ]
     },
     "execution_count": 90,
     "metadata": {},
     "output_type": "execute_result"
    }
   ],
   "source": [
    "idx=newmv[newmv[\"title\"]==\"Avatar\"].index[0]\n",
    "idx"
   ]
  },
  {
   "cell_type": "code",
   "execution_count": 91,
   "id": "5f2c6c53",
   "metadata": {},
   "outputs": [
    {
     "data": {
      "text/plain": [
       "array([1.        , 0.1490712 , 0.03984095, ..., 0.05270463, 0.        ,\n",
       "       0.08377078])"
      ]
     },
     "execution_count": 91,
     "metadata": {},
     "output_type": "execute_result"
    }
   ],
   "source": [
    "sim[0]"
   ]
  },
  {
   "cell_type": "code",
   "execution_count": 92,
   "id": "0831739f",
   "metadata": {},
   "outputs": [
    {
     "data": {
      "text/plain": [
       "[(2913, 0.38357064118830736),\n",
       " (2850, 0.36051834183722337),\n",
       " (14003, 0.3474041668898256),\n",
       " (68, 0.3448275862068966),\n",
       " (3192, 0.3398192830731594)]"
      ]
     },
     "execution_count": 92,
     "metadata": {},
     "output_type": "execute_result"
    }
   ],
   "source": [
    "sorted(list(enumerate(sim[idx])),reverse=True, key = lambda x:x[1])[1:6]"
   ]
  },
  {
   "cell_type": "code",
   "execution_count": null,
   "id": "2501f669",
   "metadata": {},
   "outputs": [],
   "source": []
  },
  {
   "cell_type": "code",
   "execution_count": 93,
   "id": "e4934f04",
   "metadata": {},
   "outputs": [],
   "source": [
    "def recommend(movie):\n",
    "    idx=newmv[newmv[\"title\"]==movie].index[0]\n",
    "    dist=sorted(list(enumerate(sim[idx])),reverse=True, key = lambda x:x[1])\n",
    "    for i in dist[1:6]:\n",
    "        print(newmv.loc[i[0]].title)"
   ]
  },
  {
   "cell_type": "code",
   "execution_count": 94,
   "id": "9e0cae5c",
   "metadata": {},
   "outputs": [
    {
     "name": "stdout",
     "output_type": "stream",
     "text": [
      "Quantum of Solace\n",
      "Skyfall\n",
      "Safe Haven\n",
      "Bad Boys for Life\n",
      "Bond Girls Are Forever\n"
     ]
    }
   ],
   "source": [
    "recommend(\"Spectre\")"
   ]
  },
  {
   "cell_type": "code",
   "execution_count": 95,
   "id": "a3a2582f",
   "metadata": {},
   "outputs": [],
   "source": [
    "import pickle"
   ]
  },
  {
   "cell_type": "code",
   "execution_count": 96,
   "id": "9ad76b81",
   "metadata": {},
   "outputs": [],
   "source": [
    "pickle.dump(newmv,open(\"mv_list.pkl\",\"wb\"))\n"
   ]
  },
  {
   "cell_type": "code",
   "execution_count": 98,
   "id": "f1511ee0",
   "metadata": {},
   "outputs": [],
   "source": [
    "pickle.dump(sim,open(\"sim1.pkl\",\"wb\"))"
   ]
  },
  {
   "cell_type": "code",
   "execution_count": null,
   "id": "d2954ea6",
   "metadata": {},
   "outputs": [],
   "source": []
  }
 ],
 "metadata": {
  "kernelspec": {
   "display_name": "Python 3 (ipykernel)",
   "language": "python",
   "name": "python3"
  },
  "language_info": {
   "codemirror_mode": {
    "name": "ipython",
    "version": 3
   },
   "file_extension": ".py",
   "mimetype": "text/x-python",
   "name": "python",
   "nbconvert_exporter": "python",
   "pygments_lexer": "ipython3",
   "version": "3.9.7"
  }
 },
 "nbformat": 4,
 "nbformat_minor": 5
}
